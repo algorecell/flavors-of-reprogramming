{
 "cells": [
  {
   "cell_type": "code",
   "execution_count": 1,
   "metadata": {},
   "outputs": [
    {
     "data": {
      "text/markdown": [
       "This notebook has been executed using the docker image `colomoto/colomoto-docker:2020-07-01`"
      ],
      "text/plain": [
       "<IPython.core.display.Markdown object>"
      ]
     },
     "metadata": {},
     "output_type": "display_data"
    }
   ],
   "source": [
    "import biolqm\n",
    "import cabean\n",
    "from colomoto_jupyter import tabulate"
   ]
  },
  {
   "cell_type": "code",
   "execution_count": 2,
   "metadata": {},
   "outputs": [
    {
     "data": {
      "text/markdown": [
       "Downloading https://raw.githubusercontent.com/jgtz/StableMotifs/master/TLGLNetwork.txt"
      ],
      "text/plain": [
       "<IPython.core.display.Markdown object>"
      ]
     },
     "metadata": {},
     "output_type": "display_data"
    }
   ],
   "source": [
    "model = biolqm.load(\"https://raw.githubusercontent.com/jgtz/StableMotifs/master/TLGLNetwork.txt\", \"booleannet\")"
   ]
  },
  {
   "cell_type": "markdown",
   "metadata": {},
   "source": [
    "Use the decompositon-based attractor detection method to identify all the exact attractors of the network under the initial condition defined above."
   ]
  },
  {
   "cell_type": "code",
   "execution_count": 3,
   "metadata": {},
   "outputs": [
    {
     "name": "stdout",
     "output_type": "stream",
     "text": [
      "CPU times: user 9.62 ms, sys: 7.77 ms, total: 17.4 ms\n",
      "Wall time: 44.3 s\n"
     ]
    },
    {
     "data": {
      "text/html": [
       "<div>\n",
       "<style scoped>\n",
       "    .dataframe tbody tr th:only-of-type {\n",
       "        vertical-align: middle;\n",
       "    }\n",
       "\n",
       "    .dataframe tbody tr th {\n",
       "        vertical-align: top;\n",
       "    }\n",
       "\n",
       "    .dataframe thead th {\n",
       "        text-align: right;\n",
       "    }\n",
       "</style>\n",
       "<table border=\"1\" class=\"dataframe\">\n",
       "  <thead>\n",
       "    <tr style=\"text-align: right;\">\n",
       "      <th></th>\n",
       "      <th>A20</th>\n",
       "      <th>Apoptosis</th>\n",
       "      <th>BID</th>\n",
       "      <th>BclxL</th>\n",
       "      <th>CD45</th>\n",
       "      <th>CREB</th>\n",
       "      <th>CTLA4</th>\n",
       "      <th>Caspase</th>\n",
       "      <th>Ceramide</th>\n",
       "      <th>Cytoskeleton_signaling</th>\n",
       "      <th>DISC</th>\n",
       "      <th>ERK</th>\n",
       "      <th>FLIP</th>\n",
       "      <th>FYN</th>\n",
       "      <th>Fas</th>\n",
       "      <th>FasL</th>\n",
       "      <th>FasT</th>\n",
       "      <th>GAP</th>\n",
       "      <th>GPCR</th>\n",
       "      <th>GRB2</th>\n",
       "      <th>GZMB</th>\n",
       "      <th>IAP</th>\n",
       "      <th>IFNG</th>\n",
       "      <th>IFNGT</th>\n",
       "      <th>IL15</th>\n",
       "      <th>IL2</th>\n",
       "      <th>IL2RA</th>\n",
       "      <th>IL2RAT</th>\n",
       "      <th>IL2RB</th>\n",
       "      <th>IL2RBT</th>\n",
       "      <th>JAK</th>\n",
       "      <th>LCK</th>\n",
       "      <th>MCL1</th>\n",
       "      <th>MEK</th>\n",
       "      <th>NFAT</th>\n",
       "      <th>NFKB</th>\n",
       "      <th>P2</th>\n",
       "      <th>P27</th>\n",
       "      <th>PDGF</th>\n",
       "      <th>PDGFR</th>\n",
       "      <th>PI3K</th>\n",
       "      <th>PLCG1</th>\n",
       "      <th>Proliferation</th>\n",
       "      <th>RANTES</th>\n",
       "      <th>RAS</th>\n",
       "      <th>S1P</th>\n",
       "      <th>SMAD</th>\n",
       "      <th>SOCS</th>\n",
       "      <th>SPHK1</th>\n",
       "      <th>STAT3</th>\n",
       "      <th>Stimuli</th>\n",
       "      <th>Stimuli2</th>\n",
       "      <th>TAX</th>\n",
       "      <th>TBET</th>\n",
       "      <th>TCR</th>\n",
       "      <th>TNF</th>\n",
       "      <th>TPL2</th>\n",
       "      <th>TRADD</th>\n",
       "      <th>ZAP70</th>\n",
       "      <th>sFas</th>\n",
       "    </tr>\n",
       "  </thead>\n",
       "  <tbody>\n",
       "    <tr>\n",
       "      <th>0</th>\n",
       "      <td>1</td>\n",
       "      <td>0</td>\n",
       "      <td>0</td>\n",
       "      <td>0</td>\n",
       "      <td>0</td>\n",
       "      <td>0</td>\n",
       "      <td>*</td>\n",
       "      <td>0</td>\n",
       "      <td>0</td>\n",
       "      <td>1</td>\n",
       "      <td>0</td>\n",
       "      <td>1</td>\n",
       "      <td>1</td>\n",
       "      <td>1</td>\n",
       "      <td>0</td>\n",
       "      <td>1</td>\n",
       "      <td>1</td>\n",
       "      <td>0</td>\n",
       "      <td>1</td>\n",
       "      <td>1</td>\n",
       "      <td>1</td>\n",
       "      <td>1</td>\n",
       "      <td>0</td>\n",
       "      <td>1</td>\n",
       "      <td>1</td>\n",
       "      <td>0</td>\n",
       "      <td>0</td>\n",
       "      <td>0</td>\n",
       "      <td>1</td>\n",
       "      <td>1</td>\n",
       "      <td>1</td>\n",
       "      <td>1</td>\n",
       "      <td>1</td>\n",
       "      <td>1</td>\n",
       "      <td>1</td>\n",
       "      <td>1</td>\n",
       "      <td>0</td>\n",
       "      <td>1</td>\n",
       "      <td>0</td>\n",
       "      <td>1</td>\n",
       "      <td>1</td>\n",
       "      <td>1</td>\n",
       "      <td>0</td>\n",
       "      <td>1</td>\n",
       "      <td>1</td>\n",
       "      <td>1</td>\n",
       "      <td>1</td>\n",
       "      <td>0</td>\n",
       "      <td>1</td>\n",
       "      <td>1</td>\n",
       "      <td>1</td>\n",
       "      <td>0</td>\n",
       "      <td>0</td>\n",
       "      <td>1</td>\n",
       "      <td>*</td>\n",
       "      <td>1</td>\n",
       "      <td>1</td>\n",
       "      <td>0</td>\n",
       "      <td>0</td>\n",
       "      <td>1</td>\n",
       "    </tr>\n",
       "    <tr>\n",
       "      <th>1</th>\n",
       "      <td>1</td>\n",
       "      <td>0</td>\n",
       "      <td>0</td>\n",
       "      <td>0</td>\n",
       "      <td>0</td>\n",
       "      <td>0</td>\n",
       "      <td>*</td>\n",
       "      <td>0</td>\n",
       "      <td>0</td>\n",
       "      <td>1</td>\n",
       "      <td>0</td>\n",
       "      <td>1</td>\n",
       "      <td>1</td>\n",
       "      <td>1</td>\n",
       "      <td>0</td>\n",
       "      <td>1</td>\n",
       "      <td>1</td>\n",
       "      <td>0</td>\n",
       "      <td>1</td>\n",
       "      <td>1</td>\n",
       "      <td>1</td>\n",
       "      <td>1</td>\n",
       "      <td>0</td>\n",
       "      <td>1</td>\n",
       "      <td>1</td>\n",
       "      <td>0</td>\n",
       "      <td>0</td>\n",
       "      <td>0</td>\n",
       "      <td>1</td>\n",
       "      <td>1</td>\n",
       "      <td>1</td>\n",
       "      <td>1</td>\n",
       "      <td>1</td>\n",
       "      <td>1</td>\n",
       "      <td>1</td>\n",
       "      <td>1</td>\n",
       "      <td>1</td>\n",
       "      <td>1</td>\n",
       "      <td>0</td>\n",
       "      <td>1</td>\n",
       "      <td>1</td>\n",
       "      <td>1</td>\n",
       "      <td>0</td>\n",
       "      <td>1</td>\n",
       "      <td>1</td>\n",
       "      <td>1</td>\n",
       "      <td>1</td>\n",
       "      <td>0</td>\n",
       "      <td>1</td>\n",
       "      <td>1</td>\n",
       "      <td>1</td>\n",
       "      <td>0</td>\n",
       "      <td>0</td>\n",
       "      <td>1</td>\n",
       "      <td>*</td>\n",
       "      <td>1</td>\n",
       "      <td>1</td>\n",
       "      <td>0</td>\n",
       "      <td>0</td>\n",
       "      <td>1</td>\n",
       "    </tr>\n",
       "    <tr>\n",
       "      <th>2</th>\n",
       "      <td>1</td>\n",
       "      <td>1</td>\n",
       "      <td>1</td>\n",
       "      <td>0</td>\n",
       "      <td>0</td>\n",
       "      <td>0</td>\n",
       "      <td>*</td>\n",
       "      <td>1</td>\n",
       "      <td>1</td>\n",
       "      <td>1</td>\n",
       "      <td>1</td>\n",
       "      <td>1</td>\n",
       "      <td>0</td>\n",
       "      <td>1</td>\n",
       "      <td>1</td>\n",
       "      <td>1</td>\n",
       "      <td>1</td>\n",
       "      <td>0</td>\n",
       "      <td>0</td>\n",
       "      <td>1</td>\n",
       "      <td>1</td>\n",
       "      <td>0</td>\n",
       "      <td>0</td>\n",
       "      <td>1</td>\n",
       "      <td>1</td>\n",
       "      <td>0</td>\n",
       "      <td>0</td>\n",
       "      <td>0</td>\n",
       "      <td>1</td>\n",
       "      <td>1</td>\n",
       "      <td>1</td>\n",
       "      <td>1</td>\n",
       "      <td>0</td>\n",
       "      <td>1</td>\n",
       "      <td>1</td>\n",
       "      <td>1</td>\n",
       "      <td>1</td>\n",
       "      <td>1</td>\n",
       "      <td>0</td>\n",
       "      <td>0</td>\n",
       "      <td>1</td>\n",
       "      <td>1</td>\n",
       "      <td>0</td>\n",
       "      <td>1</td>\n",
       "      <td>1</td>\n",
       "      <td>0</td>\n",
       "      <td>0</td>\n",
       "      <td>0</td>\n",
       "      <td>0</td>\n",
       "      <td>1</td>\n",
       "      <td>1</td>\n",
       "      <td>0</td>\n",
       "      <td>0</td>\n",
       "      <td>1</td>\n",
       "      <td>*</td>\n",
       "      <td>1</td>\n",
       "      <td>1</td>\n",
       "      <td>0</td>\n",
       "      <td>0</td>\n",
       "      <td>0</td>\n",
       "    </tr>\n",
       "  </tbody>\n",
       "</table>\n",
       "</div>"
      ],
      "text/plain": [
       "   A20  Apoptosis  BID  BclxL  CD45  CREB CTLA4  Caspase  Ceramide  \\\n",
       "0    1          0    0      0     0     0     *        0         0   \n",
       "1    1          0    0      0     0     0     *        0         0   \n",
       "2    1          1    1      0     0     0     *        1         1   \n",
       "\n",
       "   Cytoskeleton_signaling  DISC  ERK  FLIP  FYN  Fas  FasL  FasT  GAP  GPCR  \\\n",
       "0                       1     0    1     1    1    0     1     1    0     1   \n",
       "1                       1     0    1     1    1    0     1     1    0     1   \n",
       "2                       1     1    1     0    1    1     1     1    0     0   \n",
       "\n",
       "   GRB2  GZMB  IAP  IFNG  IFNGT  IL15  IL2  IL2RA  IL2RAT  IL2RB  IL2RBT  JAK  \\\n",
       "0     1     1    1     0      1     1    0      0       0      1       1    1   \n",
       "1     1     1    1     0      1     1    0      0       0      1       1    1   \n",
       "2     1     1    0     0      1     1    0      0       0      1       1    1   \n",
       "\n",
       "   LCK  MCL1  MEK  NFAT  NFKB  P2  P27  PDGF  PDGFR  PI3K  PLCG1  \\\n",
       "0    1     1    1     1     1   0    1     0      1     1      1   \n",
       "1    1     1    1     1     1   1    1     0      1     1      1   \n",
       "2    1     0    1     1     1   1    1     0      0     1      1   \n",
       "\n",
       "   Proliferation  RANTES  RAS  S1P  SMAD  SOCS  SPHK1  STAT3  Stimuli  \\\n",
       "0              0       1    1    1     1     0      1      1        1   \n",
       "1              0       1    1    1     1     0      1      1        1   \n",
       "2              0       1    1    0     0     0      0      1        1   \n",
       "\n",
       "   Stimuli2  TAX  TBET TCR  TNF  TPL2  TRADD  ZAP70  sFas  \n",
       "0         0    0     1   *    1     1      0      0     1  \n",
       "1         0    0     1   *    1     1      0      0     1  \n",
       "2         0    0     1   *    1     1      0      0     0  "
      ]
     },
     "execution_count": 3,
     "metadata": {},
     "output_type": "execute_result"
    }
   ],
   "source": [
    "%time cabobj = cabean.load(model)\n",
    "tabulate(cabean.attractors(cabobj))"
   ]
  },
  {
   "cell_type": "markdown",
   "metadata": {},
   "source": [
    "Define the properties of the source and target attractors. Note that source or target may correspond to serveral attractors."
   ]
  },
  {
   "cell_type": "code",
   "execution_count": 4,
   "metadata": {},
   "outputs": [],
   "source": [
    "source = {\"Apoptosis\": 0}\n",
    "target = {\"Apoptosis\": 1}"
   ]
  },
  {
   "cell_type": "markdown",
   "metadata": {},
   "source": [
    "Compute the minimal one-step instantaneous control (OI) from the source to the target."
   ]
  },
  {
   "cell_type": "code",
   "execution_count": 5,
   "metadata": {},
   "outputs": [
    {
     "name": "stdout",
     "output_type": "stream",
     "text": [
      "CPU times: user 3.48 ms, sys: 8.33 ms, total: 11.8 ms\n",
      "Wall time: 15 s\n"
     ]
    },
    {
     "data": {
      "text/plain": [
       "[FromOneInLimitCycle('a0', InstantaneousPerturbation(PDGFR=0, S1P=0, SPHK1=0)),\n",
       " FromOneInLimitCycle('a1', InstantaneousPerturbation(PDGFR=0, S1P=0, SPHK1=0))]"
      ]
     },
     "execution_count": 5,
     "metadata": {},
     "output_type": "execute_result"
    }
   ],
   "source": [
    "r1i = cabean.OneStep_Instantaneous(cabobj)\n",
    "%time s1i = r1i.attractor_to_attractor(source, target)\n",
    "s1i"
   ]
  },
  {
   "cell_type": "code",
   "execution_count": 6,
   "metadata": {},
   "outputs": [
    {
     "data": {
      "text/html": [
       "<style  type=\"text/css\" >\n",
       "    #T_358aa8d2_bc3a_11ea_87f0_0242ac110002 th {\n",
       "          border-right: 1px solid black;\n",
       "    }    #T_358aa8d2_bc3a_11ea_87f0_0242ac110002 td {\n",
       "          border-right: 1px solid black;\n",
       "          min-width: 2em;\n",
       "    }    #T_358aa8d2_bc3a_11ea_87f0_0242ac110002 th.col_heading {\n",
       "          writing-mode: vertical-lr;\n",
       "          transform: rotateZ(180deg);\n",
       "          vertical-align: top;\n",
       "          border-bottom: 1px solid black;\n",
       "          text-orientation: mixed;\n",
       "    }    #T_358aa8d2_bc3a_11ea_87f0_0242ac110002row0_col0 {\n",
       "            color:  black;\n",
       "             background-color:  lime;\n",
       "        }    #T_358aa8d2_bc3a_11ea_87f0_0242ac110002row0_col1 {\n",
       "            color:  black;\n",
       "             background-color:  lime;\n",
       "        }    #T_358aa8d2_bc3a_11ea_87f0_0242ac110002row0_col2 {\n",
       "            color:  black;\n",
       "             background-color:  lime;\n",
       "        }</style><table id=\"T_358aa8d2_bc3a_11ea_87f0_0242ac110002\" ><thead>    <tr>        <th class=\"blank level0\" ></th>        <th class=\"col_heading level0 col0\" >PDGFR</th>        <th class=\"col_heading level0 col1\" >S1P</th>        <th class=\"col_heading level0 col2\" >SPHK1</th>    </tr></thead><tbody>\n",
       "                <tr>\n",
       "                        <th id=\"T_358aa8d2_bc3a_11ea_87f0_0242ac110002level0_row0\" class=\"row_heading level0 row0\" >0</th>\n",
       "                        <td id=\"T_358aa8d2_bc3a_11ea_87f0_0242ac110002row0_col0\" class=\"data row0 col0\" >0</td>\n",
       "                        <td id=\"T_358aa8d2_bc3a_11ea_87f0_0242ac110002row0_col1\" class=\"data row0 col1\" >0</td>\n",
       "                        <td id=\"T_358aa8d2_bc3a_11ea_87f0_0242ac110002row0_col2\" class=\"data row0 col2\" >0</td>\n",
       "            </tr>\n",
       "    </tbody></table>"
      ],
      "text/plain": [
       "<pandas.io.formats.style.Styler at 0x7f1837db5090>"
      ]
     },
     "execution_count": 6,
     "metadata": {},
     "output_type": "execute_result"
    }
   ],
   "source": [
    "s1i.as_table()"
   ]
  },
  {
   "cell_type": "markdown",
   "metadata": {},
   "source": [
    "Compute the attractor-based sequential instantaneous control (ASI) from the source to the target."
   ]
  },
  {
   "cell_type": "code",
   "execution_count": 7,
   "metadata": {},
   "outputs": [
    {
     "name": "stdout",
     "output_type": "stream",
     "text": [
      "CPU times: user 2.97 ms, sys: 9.54 ms, total: 12.5 ms\n",
      "Wall time: 15.6 s\n"
     ]
    },
    {
     "data": {
      "text/plain": [
       "[FromOneInLimitCycle('a0', InstantaneousPerturbation(PDGFR=0, S1P=0, SPHK1=0)),\n",
       " FromOneInLimitCycle('a1', InstantaneousPerturbation(PDGFR=0, S1P=0, SPHK1=0))]"
      ]
     },
     "execution_count": 7,
     "metadata": {},
     "output_type": "execute_result"
    }
   ],
   "source": [
    "ri = cabean.AttractorSequential_Instantaneous(cabobj)\n",
    "%time si = ri.attractor_to_attractor(source, target)\n",
    "si"
   ]
  },
  {
   "cell_type": "code",
   "execution_count": 8,
   "metadata": {},
   "outputs": [
    {
     "data": {
      "image/svg+xml": [
       "<?xml version=\"1.0\" encoding=\"UTF-8\" standalone=\"no\"?>\n",
       "<!DOCTYPE svg PUBLIC \"-//W3C//DTD SVG 1.1//EN\"\n",
       " \"http://www.w3.org/Graphics/SVG/1.1/DTD/svg11.dtd\">\n",
       "<!-- Generated by graphviz version 2.38.0 (20140413.2041)\n",
       " -->\n",
       "<!-- Title: %3 Pages: 1 -->\n",
       "<svg width=\"367pt\" height=\"98pt\"\n",
       " viewBox=\"0.00 0.00 367.14 98.00\" xmlns=\"http://www.w3.org/2000/svg\" xmlns:xlink=\"http://www.w3.org/1999/xlink\">\n",
       "<g id=\"graph0\" class=\"graph\" transform=\"scale(1 1) rotate(0) translate(4 94)\">\n",
       "<title>%3</title>\n",
       "<polygon fill=\"white\" stroke=\"none\" points=\"-4,4 -4,-94 363.137,-94 363.137,4 -4,4\"/>\n",
       "<!-- target -->\n",
       "<g id=\"node1\" class=\"node\"><title>target</title>\n",
       "<polygon fill=\"palegreen\" stroke=\"black\" points=\"303.069,-63 246.931,-45 303.069,-27 359.206,-45 303.069,-63\"/>\n",
       "<polyline fill=\"none\" stroke=\"black\" points=\"258.358,-48.664 258.358,-41.336 \"/>\n",
       "<polyline fill=\"none\" stroke=\"black\" points=\"291.642,-30.664 314.496,-30.664 \"/>\n",
       "<polyline fill=\"none\" stroke=\"black\" points=\"347.779,-41.336 347.779,-48.664 \"/>\n",
       "<polyline fill=\"none\" stroke=\"black\" points=\"314.496,-59.336 291.642,-59.336 \"/>\n",
       "<text text-anchor=\"middle\" x=\"303.069\" y=\"-41.3\" font-family=\"Times,serif\" font-size=\"14.00\">target</text>\n",
       "</g>\n",
       "<!-- a0 -->\n",
       "<g id=\"node2\" class=\"node\"><title>a0</title>\n",
       "<g id=\"a_node2\"><a xlink:title=\"OneInLimitCycle\">\n",
       "<ellipse fill=\"none\" stroke=\"black\" stroke-dasharray=\"5,2\" cx=\"27\" cy=\"-72\" rx=\"27\" ry=\"18\"/>\n",
       "<text text-anchor=\"middle\" x=\"27\" y=\"-68.3\" font-family=\"Times,serif\" font-size=\"14.00\">a0</text>\n",
       "</a>\n",
       "</g>\n",
       "</g>\n",
       "<!-- a0&#45;&gt;target -->\n",
       "<g id=\"edge1\" class=\"edge\"><title>a0&#45;&gt;target</title>\n",
       "<path fill=\"none\" stroke=\"black\" d=\"M53.7837,-69.4599C98.4092,-65.0636 190.88,-55.9538 249.515,-50.1774\"/>\n",
       "<polygon fill=\"black\" stroke=\"black\" points=\"250.084,-53.6383 259.693,-49.1747 249.398,-46.672 250.084,-53.6383\"/>\n",
       "<g id=\"a_edge1&#45;label\"><a xlink:title=\"InstantaneousPerturbation(PDGFR=0, S1P=0, SPHK1=0)\">\n",
       "<text text-anchor=\"middle\" x=\"150.5\" y=\"-70\" font-family=\"Times,serif\" font-size=\"10.00\">I(PDGFR=0, S1P=0, SPHK1=0)</text>\n",
       "</a>\n",
       "</g>\n",
       "</g>\n",
       "<!-- a1 -->\n",
       "<g id=\"node3\" class=\"node\"><title>a1</title>\n",
       "<g id=\"a_node3\"><a xlink:title=\"OneInLimitCycle\">\n",
       "<ellipse fill=\"none\" stroke=\"black\" stroke-dasharray=\"5,2\" cx=\"27\" cy=\"-18\" rx=\"27\" ry=\"18\"/>\n",
       "<text text-anchor=\"middle\" x=\"27\" y=\"-14.3\" font-family=\"Times,serif\" font-size=\"14.00\">a1</text>\n",
       "</a>\n",
       "</g>\n",
       "</g>\n",
       "<!-- a1&#45;&gt;target -->\n",
       "<g id=\"edge2\" class=\"edge\"><title>a1&#45;&gt;target</title>\n",
       "<path fill=\"none\" stroke=\"black\" d=\"M54.0311,-20.3366C92.3609,-23.8053 166.233,-30.5977 229,-37 236.157,-37.73 243.705,-38.5265 251.126,-39.3247\"/>\n",
       "<polygon fill=\"black\" stroke=\"black\" points=\"250.797,-42.8095 261.116,-40.4082 251.551,-35.8503 250.797,-42.8095\"/>\n",
       "<g id=\"a_edge2&#45;label\"><a xlink:title=\"InstantaneousPerturbation(PDGFR=0, S1P=0, SPHK1=0)\">\n",
       "<text text-anchor=\"middle\" x=\"150.5\" y=\"-40\" font-family=\"Times,serif\" font-size=\"10.00\">I(PDGFR=0, S1P=0, SPHK1=0)</text>\n",
       "</a>\n",
       "</g>\n",
       "</g>\n",
       "</g>\n",
       "</svg>\n"
      ],
      "text/plain": [
       "<pydot.Dot at 0x7f1836f28250>"
      ]
     },
     "execution_count": 8,
     "metadata": {},
     "output_type": "execute_result"
    }
   ],
   "source": [
    "si.as_graph()"
   ]
  },
  {
   "cell_type": "code",
   "execution_count": 9,
   "metadata": {},
   "outputs": [
    {
     "data": {
      "text/html": [
       "<style  type=\"text/css\" >\n",
       "    #T_3edabe2c_bc3a_11ea_87f0_0242ac110002 th {\n",
       "          border-right: 1px solid black;\n",
       "    }    #T_3edabe2c_bc3a_11ea_87f0_0242ac110002 td {\n",
       "          border-right: 1px solid black;\n",
       "          min-width: 2em;\n",
       "    }    #T_3edabe2c_bc3a_11ea_87f0_0242ac110002 th.col_heading {\n",
       "          writing-mode: vertical-lr;\n",
       "          transform: rotateZ(180deg);\n",
       "          vertical-align: top;\n",
       "          border-bottom: 1px solid black;\n",
       "          text-orientation: mixed;\n",
       "    }    #T_3edabe2c_bc3a_11ea_87f0_0242ac110002row0_col0 {\n",
       "            color:  black;\n",
       "             background-color:  lime;\n",
       "        }    #T_3edabe2c_bc3a_11ea_87f0_0242ac110002row0_col1 {\n",
       "            color:  black;\n",
       "             background-color:  lime;\n",
       "        }    #T_3edabe2c_bc3a_11ea_87f0_0242ac110002row0_col2 {\n",
       "            color:  black;\n",
       "             background-color:  lime;\n",
       "        }</style><table id=\"T_3edabe2c_bc3a_11ea_87f0_0242ac110002\" ><thead>    <tr>        <th class=\"blank level0\" ></th>        <th class=\"col_heading level0 col0\" >PDGFR</th>        <th class=\"col_heading level0 col1\" >S1P</th>        <th class=\"col_heading level0 col2\" >SPHK1</th>    </tr></thead><tbody>\n",
       "                <tr>\n",
       "                        <th id=\"T_3edabe2c_bc3a_11ea_87f0_0242ac110002level0_row0\" class=\"row_heading level0 row0\" >0</th>\n",
       "                        <td id=\"T_3edabe2c_bc3a_11ea_87f0_0242ac110002row0_col0\" class=\"data row0 col0\" >0</td>\n",
       "                        <td id=\"T_3edabe2c_bc3a_11ea_87f0_0242ac110002row0_col1\" class=\"data row0 col1\" >0</td>\n",
       "                        <td id=\"T_3edabe2c_bc3a_11ea_87f0_0242ac110002row0_col2\" class=\"data row0 col2\" >0</td>\n",
       "            </tr>\n",
       "    </tbody></table>"
      ],
      "text/plain": [
       "<pandas.io.formats.style.Styler at 0x7f1837752890>"
      ]
     },
     "execution_count": 9,
     "metadata": {},
     "output_type": "execute_result"
    }
   ],
   "source": [
    "si.as_table()"
   ]
  },
  {
   "cell_type": "markdown",
   "metadata": {},
   "source": [
    "Compute the minimal one-step temporary control (OT) from the source to the target."
   ]
  },
  {
   "cell_type": "code",
   "execution_count": 10,
   "metadata": {},
   "outputs": [
    {
     "name": "stdout",
     "output_type": "stream",
     "text": [
      "CPU times: user 2.59 ms, sys: 10.8 ms, total: 13.4 ms\n",
      "Wall time: 15.6 s\n"
     ]
    },
    {
     "data": {
      "text/plain": [
       "[FromOneInLimitCycle('a0', TemporaryPerturbation(PDGFR=0)),\n",
       " FromOneInLimitCycle('a0', TemporaryPerturbation(S1P=0)),\n",
       " FromOneInLimitCycle('a0', TemporaryPerturbation(SPHK1=0)),\n",
       " FromOneInLimitCycle('a0', TemporaryPerturbation(Ceramide=1)),\n",
       " FromOneInLimitCycle('a1', TemporaryPerturbation(PDGFR=0)),\n",
       " FromOneInLimitCycle('a1', TemporaryPerturbation(S1P=0)),\n",
       " FromOneInLimitCycle('a1', TemporaryPerturbation(SPHK1=0)),\n",
       " FromOneInLimitCycle('a1', TemporaryPerturbation(Ceramide=1))]"
      ]
     },
     "execution_count": 10,
     "metadata": {},
     "output_type": "execute_result"
    }
   ],
   "source": [
    "r1t = cabean.OneStep_Temporary(cabobj)\n",
    "%time s1t = r1t.attractor_to_attractor(source, target)\n",
    "s1t"
   ]
  },
  {
   "cell_type": "code",
   "execution_count": 11,
   "metadata": {},
   "outputs": [
    {
     "data": {
      "text/html": [
       "<style  type=\"text/css\" >\n",
       "    #T_4830e3ca_bc3a_11ea_87f0_0242ac110002 th {\n",
       "          border-right: 1px solid black;\n",
       "    }    #T_4830e3ca_bc3a_11ea_87f0_0242ac110002 td {\n",
       "          border-right: 1px solid black;\n",
       "          min-width: 2em;\n",
       "    }    #T_4830e3ca_bc3a_11ea_87f0_0242ac110002 th.col_heading {\n",
       "          writing-mode: vertical-lr;\n",
       "          transform: rotateZ(180deg);\n",
       "          vertical-align: top;\n",
       "          border-bottom: 1px solid black;\n",
       "          text-orientation: mixed;\n",
       "    }    #T_4830e3ca_bc3a_11ea_87f0_0242ac110002row0_col3 {\n",
       "            color:  black;\n",
       "             background-color:  lime;\n",
       "        }    #T_4830e3ca_bc3a_11ea_87f0_0242ac110002row1_col2 {\n",
       "            color:  black;\n",
       "             background-color:  lime;\n",
       "        }    #T_4830e3ca_bc3a_11ea_87f0_0242ac110002row2_col1 {\n",
       "            color:  black;\n",
       "             background-color:  lime;\n",
       "        }    #T_4830e3ca_bc3a_11ea_87f0_0242ac110002row3_col0 {\n",
       "            color:  black;\n",
       "             background-color:  red;\n",
       "        }</style><table id=\"T_4830e3ca_bc3a_11ea_87f0_0242ac110002\" ><thead>    <tr>        <th class=\"blank level0\" ></th>        <th class=\"col_heading level0 col0\" >Ceramide</th>        <th class=\"col_heading level0 col1\" >PDGFR</th>        <th class=\"col_heading level0 col2\" >S1P</th>        <th class=\"col_heading level0 col3\" >SPHK1</th>    </tr></thead><tbody>\n",
       "                <tr>\n",
       "                        <th id=\"T_4830e3ca_bc3a_11ea_87f0_0242ac110002level0_row0\" class=\"row_heading level0 row0\" >0</th>\n",
       "                        <td id=\"T_4830e3ca_bc3a_11ea_87f0_0242ac110002row0_col0\" class=\"data row0 col0\" ></td>\n",
       "                        <td id=\"T_4830e3ca_bc3a_11ea_87f0_0242ac110002row0_col1\" class=\"data row0 col1\" ></td>\n",
       "                        <td id=\"T_4830e3ca_bc3a_11ea_87f0_0242ac110002row0_col2\" class=\"data row0 col2\" ></td>\n",
       "                        <td id=\"T_4830e3ca_bc3a_11ea_87f0_0242ac110002row0_col3\" class=\"data row0 col3\" >0</td>\n",
       "            </tr>\n",
       "            <tr>\n",
       "                        <th id=\"T_4830e3ca_bc3a_11ea_87f0_0242ac110002level0_row1\" class=\"row_heading level0 row1\" >1</th>\n",
       "                        <td id=\"T_4830e3ca_bc3a_11ea_87f0_0242ac110002row1_col0\" class=\"data row1 col0\" ></td>\n",
       "                        <td id=\"T_4830e3ca_bc3a_11ea_87f0_0242ac110002row1_col1\" class=\"data row1 col1\" ></td>\n",
       "                        <td id=\"T_4830e3ca_bc3a_11ea_87f0_0242ac110002row1_col2\" class=\"data row1 col2\" >0</td>\n",
       "                        <td id=\"T_4830e3ca_bc3a_11ea_87f0_0242ac110002row1_col3\" class=\"data row1 col3\" ></td>\n",
       "            </tr>\n",
       "            <tr>\n",
       "                        <th id=\"T_4830e3ca_bc3a_11ea_87f0_0242ac110002level0_row2\" class=\"row_heading level0 row2\" >2</th>\n",
       "                        <td id=\"T_4830e3ca_bc3a_11ea_87f0_0242ac110002row2_col0\" class=\"data row2 col0\" ></td>\n",
       "                        <td id=\"T_4830e3ca_bc3a_11ea_87f0_0242ac110002row2_col1\" class=\"data row2 col1\" >0</td>\n",
       "                        <td id=\"T_4830e3ca_bc3a_11ea_87f0_0242ac110002row2_col2\" class=\"data row2 col2\" ></td>\n",
       "                        <td id=\"T_4830e3ca_bc3a_11ea_87f0_0242ac110002row2_col3\" class=\"data row2 col3\" ></td>\n",
       "            </tr>\n",
       "            <tr>\n",
       "                        <th id=\"T_4830e3ca_bc3a_11ea_87f0_0242ac110002level0_row3\" class=\"row_heading level0 row3\" >3</th>\n",
       "                        <td id=\"T_4830e3ca_bc3a_11ea_87f0_0242ac110002row3_col0\" class=\"data row3 col0\" >1</td>\n",
       "                        <td id=\"T_4830e3ca_bc3a_11ea_87f0_0242ac110002row3_col1\" class=\"data row3 col1\" ></td>\n",
       "                        <td id=\"T_4830e3ca_bc3a_11ea_87f0_0242ac110002row3_col2\" class=\"data row3 col2\" ></td>\n",
       "                        <td id=\"T_4830e3ca_bc3a_11ea_87f0_0242ac110002row3_col3\" class=\"data row3 col3\" ></td>\n",
       "            </tr>\n",
       "    </tbody></table>"
      ],
      "text/plain": [
       "<pandas.io.formats.style.Styler at 0x7f1836ef6c10>"
      ]
     },
     "execution_count": 11,
     "metadata": {},
     "output_type": "execute_result"
    }
   ],
   "source": [
    "s1t.as_table()"
   ]
  },
  {
   "cell_type": "markdown",
   "metadata": {},
   "source": [
    "Compute the attractor-based sequential temporary control (AST) from the source to the target."
   ]
  },
  {
   "cell_type": "code",
   "execution_count": 12,
   "metadata": {},
   "outputs": [
    {
     "name": "stdout",
     "output_type": "stream",
     "text": [
      "CPU times: user 2.62 ms, sys: 10.8 ms, total: 13.4 ms\n",
      "Wall time: 16.9 s\n"
     ]
    },
    {
     "data": {
      "text/plain": [
       "[FromOneInLimitCycle('a0', TemporaryPerturbation(PDGFR=0)),\n",
       " FromOneInLimitCycle('a0', TemporaryPerturbation(S1P=0)),\n",
       " FromOneInLimitCycle('a0', TemporaryPerturbation(SPHK1=0)),\n",
       " FromOneInLimitCycle('a0', TemporaryPerturbation(Ceramide=1)),\n",
       " FromOneInLimitCycle('a1', TemporaryPerturbation(PDGFR=0)),\n",
       " FromOneInLimitCycle('a1', TemporaryPerturbation(S1P=0)),\n",
       " FromOneInLimitCycle('a1', TemporaryPerturbation(SPHK1=0)),\n",
       " FromOneInLimitCycle('a1', TemporaryPerturbation(Ceramide=1))]"
      ]
     },
     "execution_count": 12,
     "metadata": {},
     "output_type": "execute_result"
    }
   ],
   "source": [
    "rt = cabean.AttractorSequential_Temporary(cabobj)\n",
    "%time st = rt.attractor_to_attractor(source, target)\n",
    "st"
   ]
  },
  {
   "cell_type": "code",
   "execution_count": 13,
   "metadata": {},
   "outputs": [
    {
     "data": {
      "image/svg+xml": [
       "<?xml version=\"1.0\" encoding=\"UTF-8\" standalone=\"no\"?>\n",
       "<!DOCTYPE svg PUBLIC \"-//W3C//DTD SVG 1.1//EN\"\n",
       " \"http://www.w3.org/Graphics/SVG/1.1/DTD/svg11.dtd\">\n",
       "<!-- Generated by graphviz version 2.38.0 (20140413.2041)\n",
       " -->\n",
       "<!-- Title: %3 Pages: 1 -->\n",
       "<svg width=\"287pt\" height=\"242pt\"\n",
       " viewBox=\"0.00 0.00 287.14 241.69\" xmlns=\"http://www.w3.org/2000/svg\" xmlns:xlink=\"http://www.w3.org/1999/xlink\">\n",
       "<g id=\"graph0\" class=\"graph\" transform=\"scale(1 1) rotate(0) translate(4 237.691)\">\n",
       "<title>%3</title>\n",
       "<polygon fill=\"white\" stroke=\"none\" points=\"-4,4 -4,-237.691 283.137,-237.691 283.137,4 -4,4\"/>\n",
       "<!-- target -->\n",
       "<g id=\"node1\" class=\"node\"><title>target</title>\n",
       "<polygon fill=\"palegreen\" stroke=\"black\" points=\"223.069,-134.691 166.931,-116.691 223.069,-98.6912 279.206,-116.691 223.069,-134.691\"/>\n",
       "<polyline fill=\"none\" stroke=\"black\" points=\"178.358,-120.355 178.358,-113.027 \"/>\n",
       "<polyline fill=\"none\" stroke=\"black\" points=\"211.642,-102.355 234.496,-102.355 \"/>\n",
       "<polyline fill=\"none\" stroke=\"black\" points=\"267.779,-113.027 267.779,-120.355 \"/>\n",
       "<polyline fill=\"none\" stroke=\"black\" points=\"234.496,-131.027 211.642,-131.027 \"/>\n",
       "<text text-anchor=\"middle\" x=\"223.069\" y=\"-112.991\" font-family=\"Times,serif\" font-size=\"14.00\">target</text>\n",
       "</g>\n",
       "<!-- a0 -->\n",
       "<g id=\"node2\" class=\"node\"><title>a0</title>\n",
       "<g id=\"a_node2\"><a xlink:title=\"OneInLimitCycle\">\n",
       "<ellipse fill=\"none\" stroke=\"black\" stroke-dasharray=\"5,2\" cx=\"27\" cy=\"-184.691\" rx=\"27\" ry=\"18\"/>\n",
       "<text text-anchor=\"middle\" x=\"27\" y=\"-180.991\" font-family=\"Times,serif\" font-size=\"14.00\">a0</text>\n",
       "</a>\n",
       "</g>\n",
       "</g>\n",
       "<!-- a0&#45;&gt;target -->\n",
       "<g id=\"edge1\" class=\"edge\"><title>a0&#45;&gt;target</title>\n",
       "<path fill=\"none\" stroke=\"black\" d=\"M44.3738,-198.795C52.1919,-204.617 62.0099,-210.695 72,-213.691 104.78,-223.522 118.375,-228.964 149,-213.691 178.882,-198.79 199.756,-165.201 211.332,-141.75\"/>\n",
       "<polygon fill=\"black\" stroke=\"black\" points=\"214.638,-142.944 215.722,-132.404 208.302,-139.967 214.638,-142.944\"/>\n",
       "<g id=\"a_edge1&#45;label\"><a xlink:title=\"TemporaryPerturbation(PDGFR=0)\">\n",
       "<text text-anchor=\"middle\" x=\"110.5\" y=\"-225.691\" font-family=\"Times,serif\" font-size=\"10.00\">T(PDGFR=0)</text>\n",
       "</a>\n",
       "</g>\n",
       "</g>\n",
       "<!-- a0&#45;&gt;target -->\n",
       "<g id=\"edge2\" class=\"edge\"><title>a0&#45;&gt;target</title>\n",
       "<path fill=\"none\" stroke=\"black\" d=\"M53.5608,-188.374C78.7637,-190.932 117.911,-191.98 149,-179.691 170.686,-171.119 190.395,-153.239 203.864,-138.709\"/>\n",
       "<polygon fill=\"black\" stroke=\"black\" points=\"206.638,-140.857 210.677,-131.062 201.411,-136.2 206.638,-140.857\"/>\n",
       "<g id=\"a_edge2&#45;label\"><a xlink:title=\"TemporaryPerturbation(S1P=0)\">\n",
       "<text text-anchor=\"middle\" x=\"110.5\" y=\"-192.691\" font-family=\"Times,serif\" font-size=\"10.00\">T(S1P=0)</text>\n",
       "</a>\n",
       "</g>\n",
       "</g>\n",
       "<!-- a0&#45;&gt;target -->\n",
       "<g id=\"edge3\" class=\"edge\"><title>a0&#45;&gt;target</title>\n",
       "<path fill=\"none\" stroke=\"black\" d=\"M50.1841,-175C57.1051,-172.143 64.8099,-169.132 72,-166.691 105.589,-155.288 115.351,-156.918 149,-145.691 162.178,-141.294 176.429,-135.809 188.815,-130.796\"/>\n",
       "<polygon fill=\"black\" stroke=\"black\" points=\"190.37,-133.941 198.293,-126.907 187.713,-127.465 190.37,-133.941\"/>\n",
       "<g id=\"a_edge3&#45;label\"><a xlink:title=\"TemporaryPerturbation(SPHK1=0)\">\n",
       "<text text-anchor=\"middle\" x=\"110.5\" y=\"-169.691\" font-family=\"Times,serif\" font-size=\"10.00\">T(SPHK1=0)</text>\n",
       "</a>\n",
       "</g>\n",
       "</g>\n",
       "<!-- a0&#45;&gt;target -->\n",
       "<g id=\"edge4\" class=\"edge\"><title>a0&#45;&gt;target</title>\n",
       "<path fill=\"none\" stroke=\"black\" d=\"M37.4166,-167.87C45.0798,-155.908 57.0579,-140.611 72,-132.691 101.199,-117.215 138.055,-113.105 167.934,-112.917\"/>\n",
       "<polygon fill=\"black\" stroke=\"black\" points=\"168.159,-116.419 178.187,-113.003 168.217,-109.42 168.159,-116.419\"/>\n",
       "<g id=\"a_edge4&#45;label\"><a xlink:title=\"TemporaryPerturbation(Ceramide=1)\">\n",
       "<text text-anchor=\"middle\" x=\"110.5\" y=\"-135.691\" font-family=\"Times,serif\" font-size=\"10.00\">T(Ceramide=1)</text>\n",
       "</a>\n",
       "</g>\n",
       "</g>\n",
       "<!-- a1 -->\n",
       "<g id=\"node3\" class=\"node\"><title>a1</title>\n",
       "<g id=\"a_node3\"><a xlink:title=\"OneInLimitCycle\">\n",
       "<ellipse fill=\"none\" stroke=\"black\" stroke-dasharray=\"5,2\" cx=\"27\" cy=\"-48.6912\" rx=\"27\" ry=\"18\"/>\n",
       "<text text-anchor=\"middle\" x=\"27\" y=\"-44.9912\" font-family=\"Times,serif\" font-size=\"14.00\">a1</text>\n",
       "</a>\n",
       "</g>\n",
       "</g>\n",
       "<!-- a1&#45;&gt;target -->\n",
       "<g id=\"edge5\" class=\"edge\"><title>a1&#45;&gt;target</title>\n",
       "<path fill=\"none\" stroke=\"black\" d=\"M45.6376,-62.2389C53.3879,-67.672 62.8048,-73.6014 72,-77.6912 77.0949,-79.9573 138.477,-95.6317 181.139,-106.406\"/>\n",
       "<polygon fill=\"black\" stroke=\"black\" points=\"180.447,-109.841 191,-108.893 182.159,-103.054 180.447,-109.841\"/>\n",
       "<g id=\"a_edge5&#45;label\"><a xlink:title=\"TemporaryPerturbation(PDGFR=0)\">\n",
       "<text text-anchor=\"middle\" x=\"110.5\" y=\"-99.6912\" font-family=\"Times,serif\" font-size=\"10.00\">T(PDGFR=0)</text>\n",
       "</a>\n",
       "</g>\n",
       "</g>\n",
       "<!-- a1&#45;&gt;target -->\n",
       "<g id=\"edge6\" class=\"edge\"><title>a1&#45;&gt;target</title>\n",
       "<path fill=\"none\" stroke=\"black\" d=\"M54.4026,-48.5522C79.5475,-49.2492 118.044,-52.5064 149,-64.6912 167.837,-72.1056 186.387,-85.4015 200.083,-96.6923\"/>\n",
       "<polygon fill=\"black\" stroke=\"black\" points=\"198.062,-99.5687 207.943,-103.393 202.604,-94.2417 198.062,-99.5687\"/>\n",
       "<g id=\"a_edge6&#45;label\"><a xlink:title=\"TemporaryPerturbation(S1P=0)\">\n",
       "<text text-anchor=\"middle\" x=\"110.5\" y=\"-67.6912\" font-family=\"Times,serif\" font-size=\"10.00\">T(S1P=0)</text>\n",
       "</a>\n",
       "</g>\n",
       "</g>\n",
       "<!-- a1&#45;&gt;target -->\n",
       "<g id=\"edge7\" class=\"edge\"><title>a1&#45;&gt;target</title>\n",
       "<path fill=\"none\" stroke=\"black\" d=\"M50.025,-39.234C75.1101,-29.9517 116.787,-19.1325 149,-33.6912 175.701,-45.7585 196.536,-72.9388 209.009,-92.9224\"/>\n",
       "<polygon fill=\"black\" stroke=\"black\" points=\"206.01,-94.7268 214.142,-101.518 212.019,-91.1375 206.01,-94.7268\"/>\n",
       "<g id=\"a_edge7&#45;label\"><a xlink:title=\"TemporaryPerturbation(SPHK1=0)\">\n",
       "<text text-anchor=\"middle\" x=\"110.5\" y=\"-36.6912\" font-family=\"Times,serif\" font-size=\"10.00\">T(SPHK1=0)</text>\n",
       "</a>\n",
       "</g>\n",
       "</g>\n",
       "<!-- a1&#45;&gt;target -->\n",
       "<g id=\"edge8\" class=\"edge\"><title>a1&#45;&gt;target</title>\n",
       "<path fill=\"none\" stroke=\"black\" d=\"M40.9185,-33.0699C48.8914,-24.6962 59.8914,-15.1962 72,-10.6912 104.074,1.24194 118.703,5.22215 149,-10.6912 180.968,-27.4822 201.688,-65.2954 212.625,-90.9105\"/>\n",
       "<polygon fill=\"black\" stroke=\"black\" points=\"209.466,-92.4358 216.466,-100.389 215.954,-89.8063 209.466,-92.4358\"/>\n",
       "<g id=\"a_edge8&#45;label\"><a xlink:title=\"TemporaryPerturbation(Ceramide=1)\">\n",
       "<text text-anchor=\"middle\" x=\"110.5\" y=\"-13.6912\" font-family=\"Times,serif\" font-size=\"10.00\">T(Ceramide=1)</text>\n",
       "</a>\n",
       "</g>\n",
       "</g>\n",
       "</g>\n",
       "</svg>\n"
      ],
      "text/plain": [
       "<pydot.Dot at 0x7f1836edfc90>"
      ]
     },
     "execution_count": 13,
     "metadata": {},
     "output_type": "execute_result"
    }
   ],
   "source": [
    "st.as_graph()"
   ]
  },
  {
   "cell_type": "code",
   "execution_count": 14,
   "metadata": {},
   "outputs": [
    {
     "data": {
      "text/html": [
       "<style  type=\"text/css\" >\n",
       "    #T_524a0c2e_bc3a_11ea_87f0_0242ac110002 th {\n",
       "          border-right: 1px solid black;\n",
       "    }    #T_524a0c2e_bc3a_11ea_87f0_0242ac110002 td {\n",
       "          border-right: 1px solid black;\n",
       "          min-width: 2em;\n",
       "    }    #T_524a0c2e_bc3a_11ea_87f0_0242ac110002 th.col_heading {\n",
       "          writing-mode: vertical-lr;\n",
       "          transform: rotateZ(180deg);\n",
       "          vertical-align: top;\n",
       "          border-bottom: 1px solid black;\n",
       "          text-orientation: mixed;\n",
       "    }    #T_524a0c2e_bc3a_11ea_87f0_0242ac110002row0_col3 {\n",
       "            color:  black;\n",
       "             background-color:  lime;\n",
       "        }    #T_524a0c2e_bc3a_11ea_87f0_0242ac110002row1_col2 {\n",
       "            color:  black;\n",
       "             background-color:  lime;\n",
       "        }    #T_524a0c2e_bc3a_11ea_87f0_0242ac110002row2_col1 {\n",
       "            color:  black;\n",
       "             background-color:  lime;\n",
       "        }    #T_524a0c2e_bc3a_11ea_87f0_0242ac110002row3_col0 {\n",
       "            color:  black;\n",
       "             background-color:  red;\n",
       "        }</style><table id=\"T_524a0c2e_bc3a_11ea_87f0_0242ac110002\" ><thead>    <tr>        <th class=\"blank level0\" ></th>        <th class=\"col_heading level0 col0\" >Ceramide</th>        <th class=\"col_heading level0 col1\" >PDGFR</th>        <th class=\"col_heading level0 col2\" >S1P</th>        <th class=\"col_heading level0 col3\" >SPHK1</th>    </tr></thead><tbody>\n",
       "                <tr>\n",
       "                        <th id=\"T_524a0c2e_bc3a_11ea_87f0_0242ac110002level0_row0\" class=\"row_heading level0 row0\" >0</th>\n",
       "                        <td id=\"T_524a0c2e_bc3a_11ea_87f0_0242ac110002row0_col0\" class=\"data row0 col0\" ></td>\n",
       "                        <td id=\"T_524a0c2e_bc3a_11ea_87f0_0242ac110002row0_col1\" class=\"data row0 col1\" ></td>\n",
       "                        <td id=\"T_524a0c2e_bc3a_11ea_87f0_0242ac110002row0_col2\" class=\"data row0 col2\" ></td>\n",
       "                        <td id=\"T_524a0c2e_bc3a_11ea_87f0_0242ac110002row0_col3\" class=\"data row0 col3\" >0</td>\n",
       "            </tr>\n",
       "            <tr>\n",
       "                        <th id=\"T_524a0c2e_bc3a_11ea_87f0_0242ac110002level0_row1\" class=\"row_heading level0 row1\" >1</th>\n",
       "                        <td id=\"T_524a0c2e_bc3a_11ea_87f0_0242ac110002row1_col0\" class=\"data row1 col0\" ></td>\n",
       "                        <td id=\"T_524a0c2e_bc3a_11ea_87f0_0242ac110002row1_col1\" class=\"data row1 col1\" ></td>\n",
       "                        <td id=\"T_524a0c2e_bc3a_11ea_87f0_0242ac110002row1_col2\" class=\"data row1 col2\" >0</td>\n",
       "                        <td id=\"T_524a0c2e_bc3a_11ea_87f0_0242ac110002row1_col3\" class=\"data row1 col3\" ></td>\n",
       "            </tr>\n",
       "            <tr>\n",
       "                        <th id=\"T_524a0c2e_bc3a_11ea_87f0_0242ac110002level0_row2\" class=\"row_heading level0 row2\" >2</th>\n",
       "                        <td id=\"T_524a0c2e_bc3a_11ea_87f0_0242ac110002row2_col0\" class=\"data row2 col0\" ></td>\n",
       "                        <td id=\"T_524a0c2e_bc3a_11ea_87f0_0242ac110002row2_col1\" class=\"data row2 col1\" >0</td>\n",
       "                        <td id=\"T_524a0c2e_bc3a_11ea_87f0_0242ac110002row2_col2\" class=\"data row2 col2\" ></td>\n",
       "                        <td id=\"T_524a0c2e_bc3a_11ea_87f0_0242ac110002row2_col3\" class=\"data row2 col3\" ></td>\n",
       "            </tr>\n",
       "            <tr>\n",
       "                        <th id=\"T_524a0c2e_bc3a_11ea_87f0_0242ac110002level0_row3\" class=\"row_heading level0 row3\" >3</th>\n",
       "                        <td id=\"T_524a0c2e_bc3a_11ea_87f0_0242ac110002row3_col0\" class=\"data row3 col0\" >1</td>\n",
       "                        <td id=\"T_524a0c2e_bc3a_11ea_87f0_0242ac110002row3_col1\" class=\"data row3 col1\" ></td>\n",
       "                        <td id=\"T_524a0c2e_bc3a_11ea_87f0_0242ac110002row3_col2\" class=\"data row3 col2\" ></td>\n",
       "                        <td id=\"T_524a0c2e_bc3a_11ea_87f0_0242ac110002row3_col3\" class=\"data row3 col3\" ></td>\n",
       "            </tr>\n",
       "    </tbody></table>"
      ],
      "text/plain": [
       "<pandas.io.formats.style.Styler at 0x7f1836e82c90>"
      ]
     },
     "execution_count": 14,
     "metadata": {},
     "output_type": "execute_result"
    }
   ],
   "source": [
    "st.as_table()"
   ]
  },
  {
   "cell_type": "markdown",
   "metadata": {},
   "source": [
    "Compute the minimal one-step permanent control (OP) from the source to the target."
   ]
  },
  {
   "cell_type": "code",
   "execution_count": 15,
   "metadata": {},
   "outputs": [
    {
     "name": "stdout",
     "output_type": "stream",
     "text": [
      "CPU times: user 5.69 ms, sys: 7.5 ms, total: 13.2 ms\n",
      "Wall time: 19.6 s\n"
     ]
    },
    {
     "data": {
      "text/plain": [
       "[FromOneInLimitCycle('a0', PermanentPerturbation(PDGFR=0)),\n",
       " FromOneInLimitCycle('a0', PermanentPerturbation(S1P=0)),\n",
       " FromOneInLimitCycle('a0', PermanentPerturbation(SPHK1=0)),\n",
       " FromOneInLimitCycle('a0', PermanentPerturbation(Ceramide=1)),\n",
       " FromOneInLimitCycle('a1', PermanentPerturbation(PDGFR=0)),\n",
       " FromOneInLimitCycle('a1', PermanentPerturbation(S1P=0)),\n",
       " FromOneInLimitCycle('a1', PermanentPerturbation(SPHK1=0)),\n",
       " FromOneInLimitCycle('a1', PermanentPerturbation(Ceramide=1))]"
      ]
     },
     "execution_count": 15,
     "metadata": {},
     "output_type": "execute_result"
    }
   ],
   "source": [
    "r1p = cabean.OneStep_Permanent(cabobj)\n",
    "%time s1p = r1p.attractor_to_attractor(source, target)\n",
    "s1p"
   ]
  },
  {
   "cell_type": "code",
   "execution_count": 16,
   "metadata": {},
   "outputs": [
    {
     "data": {
      "text/html": [
       "<style  type=\"text/css\" >\n",
       "    #T_5dffff88_bc3a_11ea_87f0_0242ac110002 th {\n",
       "          border-right: 1px solid black;\n",
       "    }    #T_5dffff88_bc3a_11ea_87f0_0242ac110002 td {\n",
       "          border-right: 1px solid black;\n",
       "          min-width: 2em;\n",
       "    }    #T_5dffff88_bc3a_11ea_87f0_0242ac110002 th.col_heading {\n",
       "          writing-mode: vertical-lr;\n",
       "          transform: rotateZ(180deg);\n",
       "          vertical-align: top;\n",
       "          border-bottom: 1px solid black;\n",
       "          text-orientation: mixed;\n",
       "    }    #T_5dffff88_bc3a_11ea_87f0_0242ac110002row0_col3 {\n",
       "            color:  black;\n",
       "             background-color:  lime;\n",
       "        }    #T_5dffff88_bc3a_11ea_87f0_0242ac110002row1_col2 {\n",
       "            color:  black;\n",
       "             background-color:  lime;\n",
       "        }    #T_5dffff88_bc3a_11ea_87f0_0242ac110002row2_col1 {\n",
       "            color:  black;\n",
       "             background-color:  lime;\n",
       "        }    #T_5dffff88_bc3a_11ea_87f0_0242ac110002row3_col0 {\n",
       "            color:  black;\n",
       "             background-color:  red;\n",
       "        }</style><table id=\"T_5dffff88_bc3a_11ea_87f0_0242ac110002\" ><thead>    <tr>        <th class=\"blank level0\" ></th>        <th class=\"col_heading level0 col0\" >Ceramide</th>        <th class=\"col_heading level0 col1\" >PDGFR</th>        <th class=\"col_heading level0 col2\" >S1P</th>        <th class=\"col_heading level0 col3\" >SPHK1</th>    </tr></thead><tbody>\n",
       "                <tr>\n",
       "                        <th id=\"T_5dffff88_bc3a_11ea_87f0_0242ac110002level0_row0\" class=\"row_heading level0 row0\" >0</th>\n",
       "                        <td id=\"T_5dffff88_bc3a_11ea_87f0_0242ac110002row0_col0\" class=\"data row0 col0\" ></td>\n",
       "                        <td id=\"T_5dffff88_bc3a_11ea_87f0_0242ac110002row0_col1\" class=\"data row0 col1\" ></td>\n",
       "                        <td id=\"T_5dffff88_bc3a_11ea_87f0_0242ac110002row0_col2\" class=\"data row0 col2\" ></td>\n",
       "                        <td id=\"T_5dffff88_bc3a_11ea_87f0_0242ac110002row0_col3\" class=\"data row0 col3\" >0</td>\n",
       "            </tr>\n",
       "            <tr>\n",
       "                        <th id=\"T_5dffff88_bc3a_11ea_87f0_0242ac110002level0_row1\" class=\"row_heading level0 row1\" >1</th>\n",
       "                        <td id=\"T_5dffff88_bc3a_11ea_87f0_0242ac110002row1_col0\" class=\"data row1 col0\" ></td>\n",
       "                        <td id=\"T_5dffff88_bc3a_11ea_87f0_0242ac110002row1_col1\" class=\"data row1 col1\" ></td>\n",
       "                        <td id=\"T_5dffff88_bc3a_11ea_87f0_0242ac110002row1_col2\" class=\"data row1 col2\" >0</td>\n",
       "                        <td id=\"T_5dffff88_bc3a_11ea_87f0_0242ac110002row1_col3\" class=\"data row1 col3\" ></td>\n",
       "            </tr>\n",
       "            <tr>\n",
       "                        <th id=\"T_5dffff88_bc3a_11ea_87f0_0242ac110002level0_row2\" class=\"row_heading level0 row2\" >2</th>\n",
       "                        <td id=\"T_5dffff88_bc3a_11ea_87f0_0242ac110002row2_col0\" class=\"data row2 col0\" ></td>\n",
       "                        <td id=\"T_5dffff88_bc3a_11ea_87f0_0242ac110002row2_col1\" class=\"data row2 col1\" >0</td>\n",
       "                        <td id=\"T_5dffff88_bc3a_11ea_87f0_0242ac110002row2_col2\" class=\"data row2 col2\" ></td>\n",
       "                        <td id=\"T_5dffff88_bc3a_11ea_87f0_0242ac110002row2_col3\" class=\"data row2 col3\" ></td>\n",
       "            </tr>\n",
       "            <tr>\n",
       "                        <th id=\"T_5dffff88_bc3a_11ea_87f0_0242ac110002level0_row3\" class=\"row_heading level0 row3\" >3</th>\n",
       "                        <td id=\"T_5dffff88_bc3a_11ea_87f0_0242ac110002row3_col0\" class=\"data row3 col0\" >1</td>\n",
       "                        <td id=\"T_5dffff88_bc3a_11ea_87f0_0242ac110002row3_col1\" class=\"data row3 col1\" ></td>\n",
       "                        <td id=\"T_5dffff88_bc3a_11ea_87f0_0242ac110002row3_col2\" class=\"data row3 col2\" ></td>\n",
       "                        <td id=\"T_5dffff88_bc3a_11ea_87f0_0242ac110002row3_col3\" class=\"data row3 col3\" ></td>\n",
       "            </tr>\n",
       "    </tbody></table>"
      ],
      "text/plain": [
       "<pandas.io.formats.style.Styler at 0x7f1836e7a4d0>"
      ]
     },
     "execution_count": 16,
     "metadata": {},
     "output_type": "execute_result"
    }
   ],
   "source": [
    "s1p.as_table()"
   ]
  },
  {
   "cell_type": "markdown",
   "metadata": {},
   "source": [
    "Compute the attractor-based sequential permanent control (ASP) from the source to the target."
   ]
  },
  {
   "cell_type": "code",
   "execution_count": 17,
   "metadata": {},
   "outputs": [
    {
     "name": "stdout",
     "output_type": "stream",
     "text": [
      "CPU times: user 5.23 ms, sys: 8.69 ms, total: 13.9 ms\n",
      "Wall time: 24.3 s\n"
     ]
    },
    {
     "data": {
      "text/plain": [
       "[FromOneInLimitCycle('a0', PermanentPerturbation(PDGFR=0)),\n",
       " FromOneInLimitCycle('a0', PermanentPerturbation(S1P=0)),\n",
       " FromOneInLimitCycle('a0', PermanentPerturbation(SPHK1=0)),\n",
       " FromOneInLimitCycle('a0', PermanentPerturbation(Ceramide=1)),\n",
       " FromOneInLimitCycle('a1', PermanentPerturbation(PDGFR=0)),\n",
       " FromOneInLimitCycle('a1', PermanentPerturbation(S1P=0)),\n",
       " FromOneInLimitCycle('a1', PermanentPerturbation(SPHK1=0)),\n",
       " FromOneInLimitCycle('a1', PermanentPerturbation(Ceramide=1))]"
      ]
     },
     "execution_count": 17,
     "metadata": {},
     "output_type": "execute_result"
    }
   ],
   "source": [
    "rp = cabean.AttractorSequential_Permanent(cabobj)\n",
    "%time sp = rp.attractor_to_attractor(source, target)\n",
    "sp"
   ]
  },
  {
   "cell_type": "code",
   "execution_count": 18,
   "metadata": {},
   "outputs": [
    {
     "data": {
      "image/svg+xml": [
       "<?xml version=\"1.0\" encoding=\"UTF-8\" standalone=\"no\"?>\n",
       "<!DOCTYPE svg PUBLIC \"-//W3C//DTD SVG 1.1//EN\"\n",
       " \"http://www.w3.org/Graphics/SVG/1.1/DTD/svg11.dtd\">\n",
       "<!-- Generated by graphviz version 2.38.0 (20140413.2041)\n",
       " -->\n",
       "<!-- Title: %3 Pages: 1 -->\n",
       "<svg width=\"287pt\" height=\"242pt\"\n",
       " viewBox=\"0.00 0.00 287.14 241.69\" xmlns=\"http://www.w3.org/2000/svg\" xmlns:xlink=\"http://www.w3.org/1999/xlink\">\n",
       "<g id=\"graph0\" class=\"graph\" transform=\"scale(1 1) rotate(0) translate(4 237.691)\">\n",
       "<title>%3</title>\n",
       "<polygon fill=\"white\" stroke=\"none\" points=\"-4,4 -4,-237.691 283.137,-237.691 283.137,4 -4,4\"/>\n",
       "<!-- target -->\n",
       "<g id=\"node1\" class=\"node\"><title>target</title>\n",
       "<polygon fill=\"palegreen\" stroke=\"black\" points=\"223.069,-134.691 166.931,-116.691 223.069,-98.6912 279.206,-116.691 223.069,-134.691\"/>\n",
       "<polyline fill=\"none\" stroke=\"black\" points=\"178.358,-120.355 178.358,-113.027 \"/>\n",
       "<polyline fill=\"none\" stroke=\"black\" points=\"211.642,-102.355 234.496,-102.355 \"/>\n",
       "<polyline fill=\"none\" stroke=\"black\" points=\"267.779,-113.027 267.779,-120.355 \"/>\n",
       "<polyline fill=\"none\" stroke=\"black\" points=\"234.496,-131.027 211.642,-131.027 \"/>\n",
       "<text text-anchor=\"middle\" x=\"223.069\" y=\"-112.991\" font-family=\"Times,serif\" font-size=\"14.00\">target</text>\n",
       "</g>\n",
       "<!-- a0 -->\n",
       "<g id=\"node2\" class=\"node\"><title>a0</title>\n",
       "<g id=\"a_node2\"><a xlink:title=\"OneInLimitCycle\">\n",
       "<ellipse fill=\"none\" stroke=\"black\" stroke-dasharray=\"5,2\" cx=\"27\" cy=\"-184.691\" rx=\"27\" ry=\"18\"/>\n",
       "<text text-anchor=\"middle\" x=\"27\" y=\"-180.991\" font-family=\"Times,serif\" font-size=\"14.00\">a0</text>\n",
       "</a>\n",
       "</g>\n",
       "</g>\n",
       "<!-- a0&#45;&gt;target -->\n",
       "<g id=\"edge1\" class=\"edge\"><title>a0&#45;&gt;target</title>\n",
       "<path fill=\"none\" stroke=\"black\" d=\"M44.3738,-198.795C52.1919,-204.617 62.0099,-210.695 72,-213.691 104.78,-223.522 118.375,-228.964 149,-213.691 178.882,-198.79 199.756,-165.201 211.332,-141.75\"/>\n",
       "<polygon fill=\"black\" stroke=\"black\" points=\"214.638,-142.944 215.722,-132.404 208.302,-139.967 214.638,-142.944\"/>\n",
       "<g id=\"a_edge1&#45;label\"><a xlink:title=\"PermanentPerturbation(PDGFR=0)\">\n",
       "<text text-anchor=\"middle\" x=\"110.5\" y=\"-225.691\" font-family=\"Times,serif\" font-size=\"10.00\">P(PDGFR=0)</text>\n",
       "</a>\n",
       "</g>\n",
       "</g>\n",
       "<!-- a0&#45;&gt;target -->\n",
       "<g id=\"edge2\" class=\"edge\"><title>a0&#45;&gt;target</title>\n",
       "<path fill=\"none\" stroke=\"black\" d=\"M53.5608,-188.374C78.7637,-190.932 117.911,-191.98 149,-179.691 170.686,-171.119 190.395,-153.239 203.864,-138.709\"/>\n",
       "<polygon fill=\"black\" stroke=\"black\" points=\"206.638,-140.857 210.677,-131.062 201.411,-136.2 206.638,-140.857\"/>\n",
       "<g id=\"a_edge2&#45;label\"><a xlink:title=\"PermanentPerturbation(S1P=0)\">\n",
       "<text text-anchor=\"middle\" x=\"110.5\" y=\"-192.691\" font-family=\"Times,serif\" font-size=\"10.00\">P(S1P=0)</text>\n",
       "</a>\n",
       "</g>\n",
       "</g>\n",
       "<!-- a0&#45;&gt;target -->\n",
       "<g id=\"edge3\" class=\"edge\"><title>a0&#45;&gt;target</title>\n",
       "<path fill=\"none\" stroke=\"black\" d=\"M50.1841,-175C57.1051,-172.143 64.8099,-169.132 72,-166.691 105.589,-155.288 115.351,-156.918 149,-145.691 162.178,-141.294 176.429,-135.809 188.815,-130.796\"/>\n",
       "<polygon fill=\"black\" stroke=\"black\" points=\"190.37,-133.941 198.293,-126.907 187.713,-127.465 190.37,-133.941\"/>\n",
       "<g id=\"a_edge3&#45;label\"><a xlink:title=\"PermanentPerturbation(SPHK1=0)\">\n",
       "<text text-anchor=\"middle\" x=\"110.5\" y=\"-169.691\" font-family=\"Times,serif\" font-size=\"10.00\">P(SPHK1=0)</text>\n",
       "</a>\n",
       "</g>\n",
       "</g>\n",
       "<!-- a0&#45;&gt;target -->\n",
       "<g id=\"edge4\" class=\"edge\"><title>a0&#45;&gt;target</title>\n",
       "<path fill=\"none\" stroke=\"black\" d=\"M37.4166,-167.87C45.0798,-155.908 57.0579,-140.611 72,-132.691 101.199,-117.215 138.055,-113.105 167.934,-112.917\"/>\n",
       "<polygon fill=\"black\" stroke=\"black\" points=\"168.159,-116.419 178.187,-113.003 168.217,-109.42 168.159,-116.419\"/>\n",
       "<g id=\"a_edge4&#45;label\"><a xlink:title=\"PermanentPerturbation(Ceramide=1)\">\n",
       "<text text-anchor=\"middle\" x=\"110.5\" y=\"-135.691\" font-family=\"Times,serif\" font-size=\"10.00\">P(Ceramide=1)</text>\n",
       "</a>\n",
       "</g>\n",
       "</g>\n",
       "<!-- a1 -->\n",
       "<g id=\"node3\" class=\"node\"><title>a1</title>\n",
       "<g id=\"a_node3\"><a xlink:title=\"OneInLimitCycle\">\n",
       "<ellipse fill=\"none\" stroke=\"black\" stroke-dasharray=\"5,2\" cx=\"27\" cy=\"-48.6912\" rx=\"27\" ry=\"18\"/>\n",
       "<text text-anchor=\"middle\" x=\"27\" y=\"-44.9912\" font-family=\"Times,serif\" font-size=\"14.00\">a1</text>\n",
       "</a>\n",
       "</g>\n",
       "</g>\n",
       "<!-- a1&#45;&gt;target -->\n",
       "<g id=\"edge5\" class=\"edge\"><title>a1&#45;&gt;target</title>\n",
       "<path fill=\"none\" stroke=\"black\" d=\"M45.6376,-62.2389C53.3879,-67.672 62.8048,-73.6014 72,-77.6912 77.0949,-79.9573 138.477,-95.6317 181.139,-106.406\"/>\n",
       "<polygon fill=\"black\" stroke=\"black\" points=\"180.447,-109.841 191,-108.893 182.159,-103.054 180.447,-109.841\"/>\n",
       "<g id=\"a_edge5&#45;label\"><a xlink:title=\"PermanentPerturbation(PDGFR=0)\">\n",
       "<text text-anchor=\"middle\" x=\"110.5\" y=\"-99.6912\" font-family=\"Times,serif\" font-size=\"10.00\">P(PDGFR=0)</text>\n",
       "</a>\n",
       "</g>\n",
       "</g>\n",
       "<!-- a1&#45;&gt;target -->\n",
       "<g id=\"edge6\" class=\"edge\"><title>a1&#45;&gt;target</title>\n",
       "<path fill=\"none\" stroke=\"black\" d=\"M54.4026,-48.5522C79.5475,-49.2492 118.044,-52.5064 149,-64.6912 167.837,-72.1056 186.387,-85.4015 200.083,-96.6923\"/>\n",
       "<polygon fill=\"black\" stroke=\"black\" points=\"198.062,-99.5687 207.943,-103.393 202.604,-94.2417 198.062,-99.5687\"/>\n",
       "<g id=\"a_edge6&#45;label\"><a xlink:title=\"PermanentPerturbation(S1P=0)\">\n",
       "<text text-anchor=\"middle\" x=\"110.5\" y=\"-67.6912\" font-family=\"Times,serif\" font-size=\"10.00\">P(S1P=0)</text>\n",
       "</a>\n",
       "</g>\n",
       "</g>\n",
       "<!-- a1&#45;&gt;target -->\n",
       "<g id=\"edge7\" class=\"edge\"><title>a1&#45;&gt;target</title>\n",
       "<path fill=\"none\" stroke=\"black\" d=\"M50.025,-39.234C75.1101,-29.9517 116.787,-19.1325 149,-33.6912 175.701,-45.7585 196.536,-72.9388 209.009,-92.9224\"/>\n",
       "<polygon fill=\"black\" stroke=\"black\" points=\"206.01,-94.7268 214.142,-101.518 212.019,-91.1375 206.01,-94.7268\"/>\n",
       "<g id=\"a_edge7&#45;label\"><a xlink:title=\"PermanentPerturbation(SPHK1=0)\">\n",
       "<text text-anchor=\"middle\" x=\"110.5\" y=\"-36.6912\" font-family=\"Times,serif\" font-size=\"10.00\">P(SPHK1=0)</text>\n",
       "</a>\n",
       "</g>\n",
       "</g>\n",
       "<!-- a1&#45;&gt;target -->\n",
       "<g id=\"edge8\" class=\"edge\"><title>a1&#45;&gt;target</title>\n",
       "<path fill=\"none\" stroke=\"black\" d=\"M40.9185,-33.0699C48.8914,-24.6962 59.8914,-15.1962 72,-10.6912 104.074,1.24194 118.703,5.22215 149,-10.6912 180.968,-27.4822 201.688,-65.2954 212.625,-90.9105\"/>\n",
       "<polygon fill=\"black\" stroke=\"black\" points=\"209.466,-92.4358 216.466,-100.389 215.954,-89.8063 209.466,-92.4358\"/>\n",
       "<g id=\"a_edge8&#45;label\"><a xlink:title=\"PermanentPerturbation(Ceramide=1)\">\n",
       "<text text-anchor=\"middle\" x=\"110.5\" y=\"-13.6912\" font-family=\"Times,serif\" font-size=\"10.00\">P(Ceramide=1)</text>\n",
       "</a>\n",
       "</g>\n",
       "</g>\n",
       "</g>\n",
       "</svg>\n"
      ],
      "text/plain": [
       "<pydot.Dot at 0x7f1836e15310>"
      ]
     },
     "execution_count": 18,
     "metadata": {},
     "output_type": "execute_result"
    }
   ],
   "source": [
    "sp.as_graph()"
   ]
  },
  {
   "cell_type": "code",
   "execution_count": 19,
   "metadata": {},
   "outputs": [
    {
     "data": {
      "text/html": [
       "<style  type=\"text/css\" >\n",
       "    #T_6c855cb0_bc3a_11ea_87f0_0242ac110002 th {\n",
       "          border-right: 1px solid black;\n",
       "    }    #T_6c855cb0_bc3a_11ea_87f0_0242ac110002 td {\n",
       "          border-right: 1px solid black;\n",
       "          min-width: 2em;\n",
       "    }    #T_6c855cb0_bc3a_11ea_87f0_0242ac110002 th.col_heading {\n",
       "          writing-mode: vertical-lr;\n",
       "          transform: rotateZ(180deg);\n",
       "          vertical-align: top;\n",
       "          border-bottom: 1px solid black;\n",
       "          text-orientation: mixed;\n",
       "    }    #T_6c855cb0_bc3a_11ea_87f0_0242ac110002row0_col3 {\n",
       "            color:  black;\n",
       "             background-color:  lime;\n",
       "        }    #T_6c855cb0_bc3a_11ea_87f0_0242ac110002row1_col2 {\n",
       "            color:  black;\n",
       "             background-color:  lime;\n",
       "        }    #T_6c855cb0_bc3a_11ea_87f0_0242ac110002row2_col1 {\n",
       "            color:  black;\n",
       "             background-color:  lime;\n",
       "        }    #T_6c855cb0_bc3a_11ea_87f0_0242ac110002row3_col0 {\n",
       "            color:  black;\n",
       "             background-color:  red;\n",
       "        }</style><table id=\"T_6c855cb0_bc3a_11ea_87f0_0242ac110002\" ><thead>    <tr>        <th class=\"blank level0\" ></th>        <th class=\"col_heading level0 col0\" >Ceramide</th>        <th class=\"col_heading level0 col1\" >PDGFR</th>        <th class=\"col_heading level0 col2\" >S1P</th>        <th class=\"col_heading level0 col3\" >SPHK1</th>    </tr></thead><tbody>\n",
       "                <tr>\n",
       "                        <th id=\"T_6c855cb0_bc3a_11ea_87f0_0242ac110002level0_row0\" class=\"row_heading level0 row0\" >0</th>\n",
       "                        <td id=\"T_6c855cb0_bc3a_11ea_87f0_0242ac110002row0_col0\" class=\"data row0 col0\" ></td>\n",
       "                        <td id=\"T_6c855cb0_bc3a_11ea_87f0_0242ac110002row0_col1\" class=\"data row0 col1\" ></td>\n",
       "                        <td id=\"T_6c855cb0_bc3a_11ea_87f0_0242ac110002row0_col2\" class=\"data row0 col2\" ></td>\n",
       "                        <td id=\"T_6c855cb0_bc3a_11ea_87f0_0242ac110002row0_col3\" class=\"data row0 col3\" >0</td>\n",
       "            </tr>\n",
       "            <tr>\n",
       "                        <th id=\"T_6c855cb0_bc3a_11ea_87f0_0242ac110002level0_row1\" class=\"row_heading level0 row1\" >1</th>\n",
       "                        <td id=\"T_6c855cb0_bc3a_11ea_87f0_0242ac110002row1_col0\" class=\"data row1 col0\" ></td>\n",
       "                        <td id=\"T_6c855cb0_bc3a_11ea_87f0_0242ac110002row1_col1\" class=\"data row1 col1\" ></td>\n",
       "                        <td id=\"T_6c855cb0_bc3a_11ea_87f0_0242ac110002row1_col2\" class=\"data row1 col2\" >0</td>\n",
       "                        <td id=\"T_6c855cb0_bc3a_11ea_87f0_0242ac110002row1_col3\" class=\"data row1 col3\" ></td>\n",
       "            </tr>\n",
       "            <tr>\n",
       "                        <th id=\"T_6c855cb0_bc3a_11ea_87f0_0242ac110002level0_row2\" class=\"row_heading level0 row2\" >2</th>\n",
       "                        <td id=\"T_6c855cb0_bc3a_11ea_87f0_0242ac110002row2_col0\" class=\"data row2 col0\" ></td>\n",
       "                        <td id=\"T_6c855cb0_bc3a_11ea_87f0_0242ac110002row2_col1\" class=\"data row2 col1\" >0</td>\n",
       "                        <td id=\"T_6c855cb0_bc3a_11ea_87f0_0242ac110002row2_col2\" class=\"data row2 col2\" ></td>\n",
       "                        <td id=\"T_6c855cb0_bc3a_11ea_87f0_0242ac110002row2_col3\" class=\"data row2 col3\" ></td>\n",
       "            </tr>\n",
       "            <tr>\n",
       "                        <th id=\"T_6c855cb0_bc3a_11ea_87f0_0242ac110002level0_row3\" class=\"row_heading level0 row3\" >3</th>\n",
       "                        <td id=\"T_6c855cb0_bc3a_11ea_87f0_0242ac110002row3_col0\" class=\"data row3 col0\" >1</td>\n",
       "                        <td id=\"T_6c855cb0_bc3a_11ea_87f0_0242ac110002row3_col1\" class=\"data row3 col1\" ></td>\n",
       "                        <td id=\"T_6c855cb0_bc3a_11ea_87f0_0242ac110002row3_col2\" class=\"data row3 col2\" ></td>\n",
       "                        <td id=\"T_6c855cb0_bc3a_11ea_87f0_0242ac110002row3_col3\" class=\"data row3 col3\" ></td>\n",
       "            </tr>\n",
       "    </tbody></table>"
      ],
      "text/plain": [
       "<pandas.io.formats.style.Styler at 0x7f1836e3a690>"
      ]
     },
     "execution_count": 19,
     "metadata": {},
     "output_type": "execute_result"
    }
   ],
   "source": [
    "sp.as_table()"
   ]
  },
  {
   "cell_type": "code",
   "execution_count": null,
   "metadata": {},
   "outputs": [],
   "source": []
  }
 ],
 "metadata": {
  "kernelspec": {
   "display_name": "Python 3",
   "language": "python",
   "name": "python3"
  },
  "language_info": {
   "codemirror_mode": {
    "name": "ipython",
    "version": 3
   },
   "file_extension": ".py",
   "mimetype": "text/x-python",
   "name": "python",
   "nbconvert_exporter": "python",
   "pygments_lexer": "ipython3",
   "version": "3.7.6"
  }
 },
 "nbformat": 4,
 "nbformat_minor": 2
}
