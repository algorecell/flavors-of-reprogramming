{
 "cells": [
  {
   "cell_type": "code",
   "execution_count": 1,
   "metadata": {},
   "outputs": [
    {
     "data": {
      "text/markdown": [
       "This notebook has been executed using the docker image `colomoto/colomoto-docker:2020-07-01`"
      ],
      "text/plain": [
       "<IPython.core.display.Markdown object>"
      ]
     },
     "metadata": {},
     "output_type": "display_data"
    }
   ],
   "source": [
    "import actonet\n",
    "import biolqm\n",
    "from colomoto_jupyter import tabulate"
   ]
  },
  {
   "cell_type": "code",
   "execution_count": 2,
   "metadata": {},
   "outputs": [],
   "source": [
    "model = biolqm.load(\"MyeloidRules.txt\", \"booleannet\")\n",
    "act = actonet.load(model)"
   ]
  },
  {
   "cell_type": "code",
   "execution_count": 3,
   "metadata": {},
   "outputs": [],
   "source": [
    "target = {\"EgrNab\": 1, \"CEBPA\": 1}"
   ]
  },
  {
   "cell_type": "code",
   "execution_count": 4,
   "metadata": {},
   "outputs": [
    {
     "data": {
      "text/plain": [
       "[FromAny(PermanentPerturbation(CEBPA=1, EgrNab=1)),\n",
       " FromAny(PermanentPerturbation(CEBPA=1, GATA1=0, GATA2=0, Gfi1=0)),\n",
       " FromAny(PermanentPerturbation(CEBPA=1, Gfi1=0, PU1=1))]"
      ]
     },
     "execution_count": 4,
     "metadata": {},
     "output_type": "execute_result"
    }
   ],
   "source": [
    "s = act.reprogramming_fixpoints(target)\n",
    "s"
   ]
  },
  {
   "cell_type": "code",
   "execution_count": 5,
   "metadata": {},
   "outputs": [
    {
     "data": {
      "text/html": [
       "<style  type=\"text/css\" >\n",
       "    #T_ffde3794_bc39_11ea_888a_0242ac110002 th {\n",
       "          border-right: 1px solid black;\n",
       "    }    #T_ffde3794_bc39_11ea_888a_0242ac110002 td {\n",
       "          border-right: 1px solid black;\n",
       "          min-width: 2em;\n",
       "    }    #T_ffde3794_bc39_11ea_888a_0242ac110002 th.col_heading {\n",
       "          writing-mode: vertical-lr;\n",
       "          transform: rotateZ(180deg);\n",
       "          vertical-align: top;\n",
       "          border-bottom: 1px solid black;\n",
       "          text-orientation: mixed;\n",
       "    }    #T_ffde3794_bc39_11ea_888a_0242ac110002row0_col0 {\n",
       "            color:  black;\n",
       "             background-color:  red;\n",
       "        }    #T_ffde3794_bc39_11ea_888a_0242ac110002row0_col4 {\n",
       "            color:  black;\n",
       "             background-color:  lime;\n",
       "        }    #T_ffde3794_bc39_11ea_888a_0242ac110002row0_col5 {\n",
       "            color:  black;\n",
       "             background-color:  red;\n",
       "        }    #T_ffde3794_bc39_11ea_888a_0242ac110002row1_col0 {\n",
       "            color:  black;\n",
       "             background-color:  red;\n",
       "        }    #T_ffde3794_bc39_11ea_888a_0242ac110002row1_col2 {\n",
       "            color:  black;\n",
       "             background-color:  lime;\n",
       "        }    #T_ffde3794_bc39_11ea_888a_0242ac110002row1_col3 {\n",
       "            color:  black;\n",
       "             background-color:  lime;\n",
       "        }    #T_ffde3794_bc39_11ea_888a_0242ac110002row1_col4 {\n",
       "            color:  black;\n",
       "             background-color:  lime;\n",
       "        }    #T_ffde3794_bc39_11ea_888a_0242ac110002row2_col0 {\n",
       "            color:  black;\n",
       "             background-color:  red;\n",
       "        }    #T_ffde3794_bc39_11ea_888a_0242ac110002row2_col1 {\n",
       "            color:  black;\n",
       "             background-color:  red;\n",
       "        }</style><table id=\"T_ffde3794_bc39_11ea_888a_0242ac110002\" ><thead>    <tr>        <th class=\"blank level0\" ></th>        <th class=\"col_heading level0 col0\" >CEBPA</th>        <th class=\"col_heading level0 col1\" >EgrNab</th>        <th class=\"col_heading level0 col2\" >GATA1</th>        <th class=\"col_heading level0 col3\" >GATA2</th>        <th class=\"col_heading level0 col4\" >Gfi1</th>        <th class=\"col_heading level0 col5\" >PU1</th>    </tr></thead><tbody>\n",
       "                <tr>\n",
       "                        <th id=\"T_ffde3794_bc39_11ea_888a_0242ac110002level0_row0\" class=\"row_heading level0 row0\" >0</th>\n",
       "                        <td id=\"T_ffde3794_bc39_11ea_888a_0242ac110002row0_col0\" class=\"data row0 col0\" >1</td>\n",
       "                        <td id=\"T_ffde3794_bc39_11ea_888a_0242ac110002row0_col1\" class=\"data row0 col1\" ></td>\n",
       "                        <td id=\"T_ffde3794_bc39_11ea_888a_0242ac110002row0_col2\" class=\"data row0 col2\" ></td>\n",
       "                        <td id=\"T_ffde3794_bc39_11ea_888a_0242ac110002row0_col3\" class=\"data row0 col3\" ></td>\n",
       "                        <td id=\"T_ffde3794_bc39_11ea_888a_0242ac110002row0_col4\" class=\"data row0 col4\" >0</td>\n",
       "                        <td id=\"T_ffde3794_bc39_11ea_888a_0242ac110002row0_col5\" class=\"data row0 col5\" >1</td>\n",
       "            </tr>\n",
       "            <tr>\n",
       "                        <th id=\"T_ffde3794_bc39_11ea_888a_0242ac110002level0_row1\" class=\"row_heading level0 row1\" >1</th>\n",
       "                        <td id=\"T_ffde3794_bc39_11ea_888a_0242ac110002row1_col0\" class=\"data row1 col0\" >1</td>\n",
       "                        <td id=\"T_ffde3794_bc39_11ea_888a_0242ac110002row1_col1\" class=\"data row1 col1\" ></td>\n",
       "                        <td id=\"T_ffde3794_bc39_11ea_888a_0242ac110002row1_col2\" class=\"data row1 col2\" >0</td>\n",
       "                        <td id=\"T_ffde3794_bc39_11ea_888a_0242ac110002row1_col3\" class=\"data row1 col3\" >0</td>\n",
       "                        <td id=\"T_ffde3794_bc39_11ea_888a_0242ac110002row1_col4\" class=\"data row1 col4\" >0</td>\n",
       "                        <td id=\"T_ffde3794_bc39_11ea_888a_0242ac110002row1_col5\" class=\"data row1 col5\" ></td>\n",
       "            </tr>\n",
       "            <tr>\n",
       "                        <th id=\"T_ffde3794_bc39_11ea_888a_0242ac110002level0_row2\" class=\"row_heading level0 row2\" >2</th>\n",
       "                        <td id=\"T_ffde3794_bc39_11ea_888a_0242ac110002row2_col0\" class=\"data row2 col0\" >1</td>\n",
       "                        <td id=\"T_ffde3794_bc39_11ea_888a_0242ac110002row2_col1\" class=\"data row2 col1\" >1</td>\n",
       "                        <td id=\"T_ffde3794_bc39_11ea_888a_0242ac110002row2_col2\" class=\"data row2 col2\" ></td>\n",
       "                        <td id=\"T_ffde3794_bc39_11ea_888a_0242ac110002row2_col3\" class=\"data row2 col3\" ></td>\n",
       "                        <td id=\"T_ffde3794_bc39_11ea_888a_0242ac110002row2_col4\" class=\"data row2 col4\" ></td>\n",
       "                        <td id=\"T_ffde3794_bc39_11ea_888a_0242ac110002row2_col5\" class=\"data row2 col5\" ></td>\n",
       "            </tr>\n",
       "    </tbody></table>"
      ],
      "text/plain": [
       "<pandas.io.formats.style.Styler at 0x7f4fac9a2150>"
      ]
     },
     "execution_count": 5,
     "metadata": {},
     "output_type": "execute_result"
    }
   ],
   "source": [
    "s.as_table()"
   ]
  },
  {
   "cell_type": "code",
   "execution_count": 6,
   "metadata": {},
   "outputs": [
    {
     "data": {
      "image/svg+xml": [
       "<?xml version=\"1.0\" encoding=\"UTF-8\" standalone=\"no\"?>\n",
       "<!DOCTYPE svg PUBLIC \"-//W3C//DTD SVG 1.1//EN\"\n",
       " \"http://www.w3.org/Graphics/SVG/1.1/DTD/svg11.dtd\">\n",
       "<!-- Generated by graphviz version 2.38.0 (20140413.2041)\n",
       " -->\n",
       "<!-- Title: %3 Pages: 1 -->\n",
       "<svg width=\"401pt\" height=\"68pt\"\n",
       " viewBox=\"0.00 0.00 401.14 68.42\" xmlns=\"http://www.w3.org/2000/svg\" xmlns:xlink=\"http://www.w3.org/1999/xlink\">\n",
       "<g id=\"graph0\" class=\"graph\" transform=\"scale(1 1) rotate(0) translate(4 64.42)\">\n",
       "<title>%3</title>\n",
       "<polygon fill=\"white\" stroke=\"none\" points=\"-4,4 -4,-64.42 397.137,-64.42 397.137,4 -4,4\"/>\n",
       "<!-- target -->\n",
       "<g id=\"node1\" class=\"node\"><title>target</title>\n",
       "<polygon fill=\"palegreen\" stroke=\"black\" points=\"337.069,-47.42 280.931,-29.42 337.069,-11.42 393.206,-29.42 337.069,-47.42\"/>\n",
       "<polyline fill=\"none\" stroke=\"black\" points=\"292.358,-33.084 292.358,-25.756 \"/>\n",
       "<polyline fill=\"none\" stroke=\"black\" points=\"325.642,-15.084 348.496,-15.084 \"/>\n",
       "<polyline fill=\"none\" stroke=\"black\" points=\"381.779,-25.756 381.779,-33.084 \"/>\n",
       "<polyline fill=\"none\" stroke=\"black\" points=\"348.496,-43.756 325.642,-43.756 \"/>\n",
       "<text text-anchor=\"middle\" x=\"337.069\" y=\"-25.72\" font-family=\"Times,serif\" font-size=\"14.00\">target</text>\n",
       "</g>\n",
       "<!-- any -->\n",
       "<g id=\"node2\" class=\"node\"><title>any</title>\n",
       "<g id=\"a_node2\"><a xlink:title=\"Any\">\n",
       "<ellipse fill=\"none\" stroke=\"black\" stroke-dasharray=\"1,5\" cx=\"18\" cy=\"-29.42\" rx=\"18\" ry=\"18\"/>\n",
       "</a>\n",
       "</g>\n",
       "</g>\n",
       "<!-- any&#45;&gt;target -->\n",
       "<g id=\"edge1\" class=\"edge\"><title>any&#45;&gt;target</title>\n",
       "<path fill=\"none\" stroke=\"black\" d=\"M34.7423,-36.0536C40.6679,-38.219 47.5371,-40.3428 54,-41.42 145.625,-56.6908 170.419,-48.9717 263,-41.42 272.409,-40.6525 282.433,-39.3378 291.945,-37.8531\"/>\n",
       "<polygon fill=\"black\" stroke=\"black\" points=\"292.714,-41.2736 302.011,-36.193 291.575,-34.3668 292.714,-41.2736\"/>\n",
       "<g id=\"a_edge1&#45;label\"><a xlink:title=\"PermanentPerturbation(CEBPA=1, EgrNab=1)\">\n",
       "<text text-anchor=\"middle\" x=\"158.5\" y=\"-52.42\" font-family=\"Times,serif\" font-size=\"10.00\">P(CEBPA=1, EgrNab=1)</text>\n",
       "</a>\n",
       "</g>\n",
       "</g>\n",
       "<!-- any&#45;&gt;target -->\n",
       "<g id=\"edge2\" class=\"edge\"><title>any&#45;&gt;target</title>\n",
       "<path fill=\"none\" stroke=\"black\" d=\"M36.0878,-28.8341C41.7842,-28.6648 48.1649,-28.5033 54,-28.42 146.879,-27.0934 170.113,-27.7844 263,-28.42 266.298,-28.4426 269.681,-28.4709 273.095,-28.5035\"/>\n",
       "<polygon fill=\"black\" stroke=\"black\" points=\"273.35,-32.0063 283.387,-28.613 273.425,-25.0067 273.35,-32.0063\"/>\n",
       "<g id=\"a_edge2&#45;label\"><a xlink:title=\"PermanentPerturbation(CEBPA=1, GATA1=0, GATA2=0, Gfi1=0)\">\n",
       "<text text-anchor=\"middle\" x=\"158.5\" y=\"-31.42\" font-family=\"Times,serif\" font-size=\"10.00\">P(CEBPA=1, GATA1=0, GATA2=0, Gfi1=0)</text>\n",
       "</a>\n",
       "</g>\n",
       "</g>\n",
       "<!-- any&#45;&gt;target -->\n",
       "<g id=\"edge3\" class=\"edge\"><title>any&#45;&gt;target</title>\n",
       "<path fill=\"none\" stroke=\"black\" d=\"M33.7798,-20.4033C39.8216,-17.2155 47.0217,-14.0251 54,-12.42 144.525,8.40162 170.717,-1.82628 263,-12.42 274.195,-13.7051 286.168,-16.0632 297.115,-18.6222\"/>\n",
       "<polygon fill=\"black\" stroke=\"black\" points=\"296.283,-22.0217 306.829,-21.0039 297.95,-15.2231 296.283,-22.0217\"/>\n",
       "<g id=\"a_edge3&#45;label\"><a xlink:title=\"PermanentPerturbation(CEBPA=1, Gfi1=0, PU1=1)\">\n",
       "<text text-anchor=\"middle\" x=\"158.5\" y=\"-15.42\" font-family=\"Times,serif\" font-size=\"10.00\">P(CEBPA=1, Gfi1=0, PU1=1)</text>\n",
       "</a>\n",
       "</g>\n",
       "</g>\n",
       "</g>\n",
       "</svg>\n"
      ],
      "text/plain": [
       "<pydot.Dot at 0x7f4fc823e0d0>"
      ]
     },
     "execution_count": 6,
     "metadata": {},
     "output_type": "execute_result"
    }
   ],
   "source": [
    "s.as_graph()"
   ]
  },
  {
   "cell_type": "code",
   "execution_count": 7,
   "metadata": {},
   "outputs": [
    {
     "data": {
      "text/html": [
       "<div>\n",
       "<style scoped>\n",
       "    .dataframe tbody tr th:only-of-type {\n",
       "        vertical-align: middle;\n",
       "    }\n",
       "\n",
       "    .dataframe tbody tr th {\n",
       "        vertical-align: top;\n",
       "    }\n",
       "\n",
       "    .dataframe thead th {\n",
       "        text-align: right;\n",
       "    }\n",
       "</style>\n",
       "<table border=\"1\" class=\"dataframe\">\n",
       "  <thead>\n",
       "    <tr style=\"text-align: right;\">\n",
       "      <th></th>\n",
       "      <th>GATA2</th>\n",
       "      <th>GATA1</th>\n",
       "      <th>FOG1</th>\n",
       "      <th>EKLF</th>\n",
       "      <th>Fli1</th>\n",
       "      <th>SCL</th>\n",
       "      <th>CEBPA</th>\n",
       "      <th>PU1</th>\n",
       "      <th>cJun</th>\n",
       "      <th>EgrNab</th>\n",
       "      <th>Gfi1</th>\n",
       "    </tr>\n",
       "  </thead>\n",
       "  <tbody>\n",
       "    <tr>\n",
       "      <th>0</th>\n",
       "      <td>0</td>\n",
       "      <td>0</td>\n",
       "      <td>0</td>\n",
       "      <td>0</td>\n",
       "      <td>0</td>\n",
       "      <td>0</td>\n",
       "      <td>1</td>\n",
       "      <td>1</td>\n",
       "      <td>1</td>\n",
       "      <td>1</td>\n",
       "      <td>0</td>\n",
       "    </tr>\n",
       "  </tbody>\n",
       "</table>\n",
       "</div>"
      ],
      "text/plain": [
       "   GATA2  GATA1  FOG1  EKLF  Fli1  SCL  CEBPA  PU1  cJun  EgrNab  Gfi1\n",
       "0      0      0     0     0     0    0      1    1     1       1     0"
      ]
     },
     "execution_count": 7,
     "metadata": {},
     "output_type": "execute_result"
    }
   ],
   "source": [
    "test = biolqm.perturbation(model, \"CEBPA%1 Gfi1%0 PU1%1\")\n",
    "tabulate(biolqm.fixpoints(test))"
   ]
  },
  {
   "cell_type": "code",
   "execution_count": null,
   "metadata": {},
   "outputs": [],
   "source": []
  }
 ],
 "metadata": {
  "kernelspec": {
   "display_name": "Python 3",
   "language": "python",
   "name": "python3"
  },
  "language_info": {
   "codemirror_mode": {
    "name": "ipython",
    "version": 3
   },
   "file_extension": ".py",
   "mimetype": "text/x-python",
   "name": "python",
   "nbconvert_exporter": "python",
   "pygments_lexer": "ipython3",
   "version": "3.7.6"
  }
 },
 "nbformat": 4,
 "nbformat_minor": 2
}
