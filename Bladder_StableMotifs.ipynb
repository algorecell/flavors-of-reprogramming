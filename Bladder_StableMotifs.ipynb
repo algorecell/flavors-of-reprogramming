{
 "cells": [
  {
   "cell_type": "code",
   "execution_count": 1,
   "metadata": {},
   "outputs": [
    {
     "data": {
      "text/markdown": [
       "This notebook has been executed using the docker image `colomoto/colomoto-docker:2020-07-01`"
      ],
      "text/plain": [
       "<IPython.core.display.Markdown object>"
      ]
     },
     "metadata": {},
     "output_type": "display_data"
    }
   ],
   "source": [
    "import stablemotifs\n",
    "import biolqm\n",
    "from colomoto_jupyter import tabulate\n",
    "import pandas as pd"
   ]
  },
  {
   "cell_type": "markdown",
   "metadata": {},
   "source": [
    "Lets import the Bladder Cancer model from Remy et al. 2015 (DOI: 10.1158/0008-5472.CAN-15-0602) and run the StableMotifs algorithm"
   ]
  },
  {
   "cell_type": "code",
   "execution_count": 2,
   "metadata": {},
   "outputs": [
    {
     "data": {
      "text/markdown": [
       "Downloading http://ginsim.org/sites/default/files/Bladder_Model.zginml"
      ],
      "text/plain": [
       "<IPython.core.display.Markdown object>"
      ]
     },
     "metadata": {},
     "output_type": "display_data"
    }
   ],
   "source": [
    "lqm = biolqm.load(\"http://ginsim.org/sites/default/files/Bladder_Model.zginml\")"
   ]
  },
  {
   "cell_type": "code",
   "execution_count": 3,
   "metadata": {},
   "outputs": [],
   "source": [
    "inputs = {\n",
    "    \"EGFR_stimulus\": 1,\n",
    "    \"FGFR3_stimulus\": 1,\n",
    "    \"GrowthInhibitors\": 1\n",
    "}\n",
    "target = {\"Apoptosis_b1\": 1, \"RB1\": 1}"
   ]
  },
  {
   "cell_type": "code",
   "execution_count": 4,
   "metadata": {},
   "outputs": [
    {
     "name": "stdout",
     "output_type": "stream",
     "text": [
      "\n",
      "Filename: model.txt\n",
      "Creating Boolean table directory: model\n",
      "Boolean table directory created.\n",
      "Creating functions and names files.\n",
      "Functions and names files created.\n",
      "Performing network reduction...\n",
      "The number of source nodes without specified states is 1\n",
      "Source combination 1/2:\tDNAdamage=0\t\n",
      "Finding stable motifs in this network...\n",
      "There are 2 stable motifs in this network: \n",
      "1/2\tRB1=0\tp16INK4a=1\t\n",
      "2/2\tEGFR=0\tFGFR3=1\tGRB2=0\tRAS=1\tSPRY=1\t\n",
      "Performing network reduction using motif 1/2...\n",
      "Performing network reduction using motif 2/2...\n",
      "Source combination 2/2:\tDNAdamage=1\t\n",
      "Finding stable motifs in this network...\n",
      "There are 3 stable motifs in this network: \n",
      "1/3\tRB1=0\tp16INK4a=1\t\n",
      "2/3\tRB1=1\tp16INK4a=0\t\n",
      "3/3\tEGFR=0\tFGFR3=1\tGRB2=0\tRAS=1\tSPRY=1\t\n",
      "Performing network reduction using motif 1/3...\n",
      "Performing network reduction using motif 2/3...\n",
      "Performing network reduction using motif 3/3...\n",
      "Network reduction complete.\n",
      "Removing duplicate quasi-attractors.\n",
      "Total number of quasi-attractors: 5\n",
      "Number of putative quasi-attractors: 0\n",
      "Total time for finding quasi-attractors: 25.522927453 s\n",
      "Writing TXT files with quasi-attractors and stable motifs.\n",
      "Starting analyis of stable motif succession diagram.\n",
      "Identifying quasi-attractors corresponding to stable motif sequences.\n",
      "Shortening stable motif sequences.\n",
      "Finding control sets for each stable motif...\n",
      "Creating control sets for each stable motif sequence.\n",
      "Removing duplicates control sets.\n",
      "Total time for finding stable motif control sets: 126.769681244 s\n",
      "Writing TXT files with stable motif control sets.\n",
      "Done!\n",
      "CPU times: user 36.5 ms, sys: 16.4 ms, total: 52.9 ms\n",
      "Wall time: 2min 38s\n"
     ]
    }
   ],
   "source": [
    "%time stm = stablemotifs.load(lqm, inputs)"
   ]
  },
  {
   "cell_type": "markdown",
   "metadata": {},
   "source": [
    "Lets display the quasi-attractors, which are compressed representations of the attractors (see Zanudo et al. 2015 for more details).\n",
    "\n",
    "We will order the attractor according the state of the input signals (\"DNAdamage\",\"FGFR3_stimulus\",\"EGFR_stimulus\",\"GrowthInhibitors\")"
   ]
  },
  {
   "cell_type": "code",
   "execution_count": 5,
   "metadata": {},
   "outputs": [
    {
     "data": {
      "text/html": [
       "<div>\n",
       "<style scoped>\n",
       "    .dataframe tbody tr th:only-of-type {\n",
       "        vertical-align: middle;\n",
       "    }\n",
       "\n",
       "    .dataframe tbody tr th {\n",
       "        vertical-align: top;\n",
       "    }\n",
       "\n",
       "    .dataframe thead th {\n",
       "        text-align: right;\n",
       "    }\n",
       "</style>\n",
       "<table border=\"1\" class=\"dataframe\">\n",
       "  <thead>\n",
       "    <tr style=\"text-align: right;\">\n",
       "      <th></th>\n",
       "      <th>DNAdamage</th>\n",
       "      <th>FGFR3_stimulus</th>\n",
       "      <th>EGFR_stimulus</th>\n",
       "      <th>GrowthInhibitors</th>\n",
       "      <th>Growth_Arrest</th>\n",
       "      <th>Proliferation</th>\n",
       "      <th>Apoptosis_b2</th>\n",
       "      <th>Apoptosis_b1</th>\n",
       "      <th>CHEK1_2_b2</th>\n",
       "      <th>CHEK1_2_b1</th>\n",
       "      <th>CyclinE1</th>\n",
       "      <th>p16INK4a</th>\n",
       "      <th>CyclinD1</th>\n",
       "      <th>CyclinA</th>\n",
       "      <th>E2F3_b1</th>\n",
       "      <th>E2F3_b2</th>\n",
       "      <th>E2F1_b2</th>\n",
       "      <th>E2F1_b1</th>\n",
       "      <th>CDC25A</th>\n",
       "      <th>p21CIP</th>\n",
       "      <th>p14ARF</th>\n",
       "      <th>ATM_b1</th>\n",
       "      <th>ATM_b2</th>\n",
       "      <th>FGFR3</th>\n",
       "      <th>TP53</th>\n",
       "      <th>GRB2</th>\n",
       "      <th>MDM2</th>\n",
       "      <th>RBL2</th>\n",
       "      <th>PI3K</th>\n",
       "      <th>EGFR</th>\n",
       "      <th>PTEN</th>\n",
       "      <th>SPRY</th>\n",
       "      <th>AKT</th>\n",
       "      <th>RAS</th>\n",
       "      <th>RB1</th>\n",
       "    </tr>\n",
       "  </thead>\n",
       "  <tbody>\n",
       "    <tr>\n",
       "      <th>1</th>\n",
       "      <td>0</td>\n",
       "      <td>1</td>\n",
       "      <td>1</td>\n",
       "      <td>1</td>\n",
       "      <td>0</td>\n",
       "      <td>1</td>\n",
       "      <td>0</td>\n",
       "      <td>0</td>\n",
       "      <td>0</td>\n",
       "      <td>0</td>\n",
       "      <td>1</td>\n",
       "      <td>1</td>\n",
       "      <td>0</td>\n",
       "      <td>1</td>\n",
       "      <td>1</td>\n",
       "      <td>0</td>\n",
       "      <td>0</td>\n",
       "      <td>1</td>\n",
       "      <td>1</td>\n",
       "      <td>0</td>\n",
       "      <td>1</td>\n",
       "      <td>0</td>\n",
       "      <td>0</td>\n",
       "      <td>1</td>\n",
       "      <td>0</td>\n",
       "      <td>0</td>\n",
       "      <td>0</td>\n",
       "      <td>0</td>\n",
       "      <td>0</td>\n",
       "      <td>0</td>\n",
       "      <td>0</td>\n",
       "      <td>1</td>\n",
       "      <td>0</td>\n",
       "      <td>1</td>\n",
       "      <td>0</td>\n",
       "    </tr>\n",
       "    <tr>\n",
       "      <th>2</th>\n",
       "      <td>0</td>\n",
       "      <td>1</td>\n",
       "      <td>1</td>\n",
       "      <td>1</td>\n",
       "      <td>1</td>\n",
       "      <td>0</td>\n",
       "      <td>0</td>\n",
       "      <td>0</td>\n",
       "      <td>0</td>\n",
       "      <td>0</td>\n",
       "      <td>0</td>\n",
       "      <td>0</td>\n",
       "      <td>0</td>\n",
       "      <td>0</td>\n",
       "      <td>0</td>\n",
       "      <td>0</td>\n",
       "      <td>0</td>\n",
       "      <td>0</td>\n",
       "      <td>0</td>\n",
       "      <td>1</td>\n",
       "      <td>0</td>\n",
       "      <td>0</td>\n",
       "      <td>0</td>\n",
       "      <td>1</td>\n",
       "      <td>0</td>\n",
       "      <td>0</td>\n",
       "      <td>0</td>\n",
       "      <td>1</td>\n",
       "      <td>0</td>\n",
       "      <td>0</td>\n",
       "      <td>0</td>\n",
       "      <td>1</td>\n",
       "      <td>0</td>\n",
       "      <td>1</td>\n",
       "      <td>1</td>\n",
       "    </tr>\n",
       "    <tr>\n",
       "      <th>0</th>\n",
       "      <td>0</td>\n",
       "      <td>1</td>\n",
       "      <td>1</td>\n",
       "      <td>1</td>\n",
       "      <td>1</td>\n",
       "      <td>0</td>\n",
       "      <td>0</td>\n",
       "      <td>0</td>\n",
       "      <td>0</td>\n",
       "      <td>0</td>\n",
       "      <td>0</td>\n",
       "      <td>1</td>\n",
       "      <td>0</td>\n",
       "      <td>0</td>\n",
       "      <td>1</td>\n",
       "      <td>0</td>\n",
       "      <td>0</td>\n",
       "      <td>0</td>\n",
       "      <td>0</td>\n",
       "      <td>1</td>\n",
       "      <td>0</td>\n",
       "      <td>0</td>\n",
       "      <td>0</td>\n",
       "      <td>1</td>\n",
       "      <td>0</td>\n",
       "      <td>0</td>\n",
       "      <td>0</td>\n",
       "      <td>1</td>\n",
       "      <td>0</td>\n",
       "      <td>0</td>\n",
       "      <td>0</td>\n",
       "      <td>1</td>\n",
       "      <td>0</td>\n",
       "      <td>1</td>\n",
       "      <td>0</td>\n",
       "    </tr>\n",
       "    <tr>\n",
       "      <th>4</th>\n",
       "      <td>1</td>\n",
       "      <td>1</td>\n",
       "      <td>1</td>\n",
       "      <td>1</td>\n",
       "      <td>1</td>\n",
       "      <td>0</td>\n",
       "      <td>0</td>\n",
       "      <td>1</td>\n",
       "      <td>0</td>\n",
       "      <td>1</td>\n",
       "      <td>0</td>\n",
       "      <td>0</td>\n",
       "      <td>0</td>\n",
       "      <td>0</td>\n",
       "      <td>0</td>\n",
       "      <td>0</td>\n",
       "      <td>0</td>\n",
       "      <td>0</td>\n",
       "      <td>0</td>\n",
       "      <td>1</td>\n",
       "      <td>0</td>\n",
       "      <td>1</td>\n",
       "      <td>0</td>\n",
       "      <td>1</td>\n",
       "      <td>1</td>\n",
       "      <td>0</td>\n",
       "      <td>0</td>\n",
       "      <td>1</td>\n",
       "      <td>0</td>\n",
       "      <td>0</td>\n",
       "      <td>1</td>\n",
       "      <td>1</td>\n",
       "      <td>0</td>\n",
       "      <td>1</td>\n",
       "      <td>1</td>\n",
       "    </tr>\n",
       "    <tr>\n",
       "      <th>3</th>\n",
       "      <td>1</td>\n",
       "      <td>1</td>\n",
       "      <td>1</td>\n",
       "      <td>1</td>\n",
       "      <td>1</td>\n",
       "      <td>0</td>\n",
       "      <td>0</td>\n",
       "      <td>1</td>\n",
       "      <td>0</td>\n",
       "      <td>1</td>\n",
       "      <td>0</td>\n",
       "      <td>1</td>\n",
       "      <td>0</td>\n",
       "      <td>0</td>\n",
       "      <td>1</td>\n",
       "      <td>0</td>\n",
       "      <td>0</td>\n",
       "      <td>0</td>\n",
       "      <td>0</td>\n",
       "      <td>1</td>\n",
       "      <td>0</td>\n",
       "      <td>1</td>\n",
       "      <td>0</td>\n",
       "      <td>1</td>\n",
       "      <td>1</td>\n",
       "      <td>0</td>\n",
       "      <td>0</td>\n",
       "      <td>1</td>\n",
       "      <td>0</td>\n",
       "      <td>0</td>\n",
       "      <td>1</td>\n",
       "      <td>1</td>\n",
       "      <td>0</td>\n",
       "      <td>1</td>\n",
       "      <td>0</td>\n",
       "    </tr>\n",
       "  </tbody>\n",
       "</table>\n",
       "</div>"
      ],
      "text/plain": [
       "   DNAdamage  FGFR3_stimulus  EGFR_stimulus  GrowthInhibitors  Growth_Arrest  \\\n",
       "1          0               1              1                 1              0   \n",
       "2          0               1              1                 1              1   \n",
       "0          0               1              1                 1              1   \n",
       "4          1               1              1                 1              1   \n",
       "3          1               1              1                 1              1   \n",
       "\n",
       "   Proliferation  Apoptosis_b2  Apoptosis_b1  CHEK1_2_b2  CHEK1_2_b1  \\\n",
       "1              1             0             0           0           0   \n",
       "2              0             0             0           0           0   \n",
       "0              0             0             0           0           0   \n",
       "4              0             0             1           0           1   \n",
       "3              0             0             1           0           1   \n",
       "\n",
       "   CyclinE1  p16INK4a  CyclinD1  CyclinA  E2F3_b1  E2F3_b2  E2F1_b2  E2F1_b1  \\\n",
       "1         1         1         0        1        1        0        0        1   \n",
       "2         0         0         0        0        0        0        0        0   \n",
       "0         0         1         0        0        1        0        0        0   \n",
       "4         0         0         0        0        0        0        0        0   \n",
       "3         0         1         0        0        1        0        0        0   \n",
       "\n",
       "   CDC25A  p21CIP  p14ARF  ATM_b1  ATM_b2  FGFR3  TP53  GRB2  MDM2  RBL2  \\\n",
       "1       1       0       1       0       0      1     0     0     0     0   \n",
       "2       0       1       0       0       0      1     0     0     0     1   \n",
       "0       0       1       0       0       0      1     0     0     0     1   \n",
       "4       0       1       0       1       0      1     1     0     0     1   \n",
       "3       0       1       0       1       0      1     1     0     0     1   \n",
       "\n",
       "   PI3K  EGFR  PTEN  SPRY  AKT  RAS  RB1  \n",
       "1     0     0     0     1    0    1    0  \n",
       "2     0     0     0     1    0    1    1  \n",
       "0     0     0     0     1    0    1    0  \n",
       "4     0     0     1     1    0    1    1  \n",
       "3     0     0     1     1    0    1    0  "
      ]
     },
     "execution_count": 5,
     "metadata": {},
     "output_type": "execute_result"
    }
   ],
   "source": [
    "res=pd.DataFrame(stm.attractors)\n",
    "inputs=[\"DNAdamage\",\"FGFR3_stimulus\",\"EGFR_stimulus\",\"GrowthInhibitors\"]\n",
    "res2=res[inputs+[x for x in res.columns if x not in inputs]]\n",
    "tabulate(res2.sort_values(by=inputs))"
   ]
  },
  {
   "cell_type": "markdown",
   "metadata": {},
   "source": [
    "We can now calculate the stable motifs and the control sets for each of these attractors"
   ]
  },
  {
   "cell_type": "code",
   "execution_count": 6,
   "metadata": {},
   "outputs": [
    {
     "data": {
      "text/plain": [
       "[{'RB1': 0, 'p16INK4a': 1},\n",
       " {'EGFR': 0, 'FGFR3': 1, 'GRB2': 0, 'RAS': 1, 'SPRY': 1},\n",
       " {'CyclinE1': 0, 'RBL2': 1},\n",
       " {'CyclinE1': 0, 'p21CIP': 1},\n",
       " {'CDC25A': 1, 'CyclinE1': 1, 'RBL2': 0, 'p21CIP': 0},\n",
       " {'CDC25A': 1, 'CyclinE1': 1, 'E2F3_b1': 1, 'RB1': 0, 'RBL2': 0, 'p21CIP': 0},\n",
       " {'CDC25A': 1, 'CyclinE1': 1, 'E2F1_b1': 1, 'RB1': 0, 'RBL2': 0, 'p21CIP': 0},\n",
       " {'RB1': 1, 'p16INK4a': 0}]"
      ]
     },
     "execution_count": 6,
     "metadata": {},
     "output_type": "execute_result"
    }
   ],
   "source": [
    "stm.stable_motifs"
   ]
  },
  {
   "cell_type": "markdown",
   "metadata": {},
   "source": [
    "We can choose the reprogramming interventions for each attractor in which Apoptosis_b1=1\n",
    "\n",
    "Note: This does not give the minimal reprogramming intervention for ANY attractor in which Apoptosis_b1=1, but instead gives the minimal reprogramming interventions for each separate attractor in which Apoptosis_b1=1. Finding the minimal reprogramming intervention for ANY attractor in which Apoptosis_b1=1 would require a re-analysis of the stable motif succcession diagram of the model from which the reprogramming interventions are obtained. For more details on the stable motif succession diagram see Zanudo et al 2015 (DOI: 10.1371/journal.pcbi.1004193). As an example, a minimal reprogramming intervention for ANY attractor in which Apoptosis_b1=1 would be {DNAdamage=1}, since after the input signal DNAdamage is set to 1, all attractors have Apoptosis_b1=1."
   ]
  },
  {
   "cell_type": "code",
   "execution_count": 7,
   "metadata": {},
   "outputs": [
    {
     "data": {
      "text/plain": [
       "[FromCondition('input', TemporaryPerturbation(DNAdamage=1, RB1=1)),\n",
       " FromCondition('input', TemporaryPerturbation(DNAdamage=1, p16INK4a=0))]"
      ]
     },
     "execution_count": 7,
     "metadata": {},
     "output_type": "execute_result"
    }
   ],
   "source": [
    "s = stm.reprogramming_to_attractor(target)\n",
    "s"
   ]
  },
  {
   "cell_type": "code",
   "execution_count": 8,
   "metadata": {},
   "outputs": [
    {
     "data": {
      "image/svg+xml": [
       "<?xml version=\"1.0\" encoding=\"UTF-8\" standalone=\"no\"?>\n",
       "<!DOCTYPE svg PUBLIC \"-//W3C//DTD SVG 1.1//EN\"\n",
       " \"http://www.w3.org/Graphics/SVG/1.1/DTD/svg11.dtd\">\n",
       "<!-- Generated by graphviz version 2.38.0 (20140413.2041)\n",
       " -->\n",
       "<!-- Title: %3 Pages: 1 -->\n",
       "<svg width=\"386pt\" height=\"48pt\"\n",
       " viewBox=\"0.00 0.00 386.33 47.59\" xmlns=\"http://www.w3.org/2000/svg\" xmlns:xlink=\"http://www.w3.org/1999/xlink\">\n",
       "<g id=\"graph0\" class=\"graph\" transform=\"scale(1 1) rotate(0) translate(4 43.5925)\">\n",
       "<title>%3</title>\n",
       "<polygon fill=\"white\" stroke=\"none\" points=\"-4,4 -4,-43.5925 382.331,-43.5925 382.331,4 -4,4\"/>\n",
       "<!-- target -->\n",
       "<g id=\"node1\" class=\"node\"><title>target</title>\n",
       "<polygon fill=\"palegreen\" stroke=\"black\" points=\"322.262,-39.5925 266.125,-21.5925 322.262,-3.59248 378.4,-21.5925 322.262,-39.5925\"/>\n",
       "<polyline fill=\"none\" stroke=\"black\" points=\"277.552,-25.2565 277.552,-17.9285 \"/>\n",
       "<polyline fill=\"none\" stroke=\"black\" points=\"310.835,-7.25645 333.689,-7.25645 \"/>\n",
       "<polyline fill=\"none\" stroke=\"black\" points=\"366.973,-17.9285 366.973,-25.2565 \"/>\n",
       "<polyline fill=\"none\" stroke=\"black\" points=\"333.689,-35.9285 310.835,-35.9285 \"/>\n",
       "<text text-anchor=\"middle\" x=\"322.262\" y=\"-17.8925\" font-family=\"Times,serif\" font-size=\"14.00\">target</text>\n",
       "</g>\n",
       "<!-- input -->\n",
       "<g id=\"node2\" class=\"node\"><title>input</title>\n",
       "<g id=\"a_node2\"><a xlink:title=\"Condition\">\n",
       "<ellipse fill=\"none\" stroke=\"black\" cx=\"35.0969\" cy=\"-21.5925\" rx=\"35.194\" ry=\"18\"/>\n",
       "<text text-anchor=\"middle\" x=\"35.0969\" y=\"-17.8925\" font-family=\"Times,serif\" font-size=\"14.00\">input</text>\n",
       "</a>\n",
       "</g>\n",
       "</g>\n",
       "<!-- input&#45;&gt;target -->\n",
       "<g id=\"edge1\" class=\"edge\"><title>input&#45;&gt;target</title>\n",
       "<path fill=\"none\" stroke=\"black\" d=\"M70.2113,-21.5925C115.955,-21.5925 198.1,-21.5925 255.941,-21.5925\"/>\n",
       "<polygon fill=\"black\" stroke=\"black\" points=\"256.084,-25.0926 266.084,-21.5925 256.084,-18.0926 256.084,-25.0926\"/>\n",
       "<g id=\"a_edge1&#45;label\"><a xlink:title=\"TemporaryPerturbation(DNAdamage=1, RB1=1)\">\n",
       "<text text-anchor=\"middle\" x=\"168.194\" y=\"-24.5925\" font-family=\"Times,serif\" font-size=\"10.00\">T(DNAdamage=1, RB1=1)</text>\n",
       "</a>\n",
       "</g>\n",
       "</g>\n",
       "<!-- input&#45;&gt;target -->\n",
       "<g id=\"edge2\" class=\"edge\"><title>input&#45;&gt;target</title>\n",
       "<path fill=\"none\" stroke=\"black\" d=\"M64.7181,-11.7957C72.2626,-9.64439 80.4584,-7.68391 88.1938,-6.59248 158.607,3.34264 177.447,0.594289 248.194,-6.59248 258.63,-7.6526 269.777,-9.54355 280.14,-11.6334\"/>\n",
       "<polygon fill=\"black\" stroke=\"black\" points=\"279.678,-15.1133 290.187,-13.7663 281.132,-8.26588 279.678,-15.1133\"/>\n",
       "<g id=\"a_edge2&#45;label\"><a xlink:title=\"TemporaryPerturbation(DNAdamage=1, p16INK4a=0)\">\n",
       "<text text-anchor=\"middle\" x=\"168.194\" y=\"-9.59248\" font-family=\"Times,serif\" font-size=\"10.00\">T(DNAdamage=1, p16INK4a=0)</text>\n",
       "</a>\n",
       "</g>\n",
       "</g>\n",
       "</g>\n",
       "</svg>\n"
      ],
      "text/plain": [
       "<pydot.Dot at 0x7fef013d2a90>"
      ]
     },
     "execution_count": 8,
     "metadata": {},
     "output_type": "execute_result"
    }
   ],
   "source": [
    "s.as_graph()"
   ]
  },
  {
   "cell_type": "code",
   "execution_count": 9,
   "metadata": {},
   "outputs": [
    {
     "data": {
      "text/html": [
       "<style  type=\"text/css\" >\n",
       "    #T_fdbe13a8_bc39_11ea_b126_0242ac110002 th {\n",
       "          border-right: 1px solid black;\n",
       "    }    #T_fdbe13a8_bc39_11ea_b126_0242ac110002 td {\n",
       "          border-right: 1px solid black;\n",
       "          min-width: 2em;\n",
       "    }    #T_fdbe13a8_bc39_11ea_b126_0242ac110002 th.col_heading {\n",
       "          writing-mode: vertical-lr;\n",
       "          transform: rotateZ(180deg);\n",
       "          vertical-align: top;\n",
       "          border-bottom: 1px solid black;\n",
       "          text-orientation: mixed;\n",
       "    }    #T_fdbe13a8_bc39_11ea_b126_0242ac110002row0_col0 {\n",
       "            color:  black;\n",
       "             background-color:  red;\n",
       "        }    #T_fdbe13a8_bc39_11ea_b126_0242ac110002row0_col2 {\n",
       "            color:  black;\n",
       "             background-color:  lime;\n",
       "        }    #T_fdbe13a8_bc39_11ea_b126_0242ac110002row1_col0 {\n",
       "            color:  black;\n",
       "             background-color:  red;\n",
       "        }    #T_fdbe13a8_bc39_11ea_b126_0242ac110002row1_col1 {\n",
       "            color:  black;\n",
       "             background-color:  red;\n",
       "        }</style><table id=\"T_fdbe13a8_bc39_11ea_b126_0242ac110002\" ><thead>    <tr>        <th class=\"blank level0\" ></th>        <th class=\"col_heading level0 col0\" >DNAdamage</th>        <th class=\"col_heading level0 col1\" >RB1</th>        <th class=\"col_heading level0 col2\" >p16INK4a</th>    </tr></thead><tbody>\n",
       "                <tr>\n",
       "                        <th id=\"T_fdbe13a8_bc39_11ea_b126_0242ac110002level0_row0\" class=\"row_heading level0 row0\" >0</th>\n",
       "                        <td id=\"T_fdbe13a8_bc39_11ea_b126_0242ac110002row0_col0\" class=\"data row0 col0\" >1</td>\n",
       "                        <td id=\"T_fdbe13a8_bc39_11ea_b126_0242ac110002row0_col1\" class=\"data row0 col1\" ></td>\n",
       "                        <td id=\"T_fdbe13a8_bc39_11ea_b126_0242ac110002row0_col2\" class=\"data row0 col2\" >0</td>\n",
       "            </tr>\n",
       "            <tr>\n",
       "                        <th id=\"T_fdbe13a8_bc39_11ea_b126_0242ac110002level0_row1\" class=\"row_heading level0 row1\" >1</th>\n",
       "                        <td id=\"T_fdbe13a8_bc39_11ea_b126_0242ac110002row1_col0\" class=\"data row1 col0\" >1</td>\n",
       "                        <td id=\"T_fdbe13a8_bc39_11ea_b126_0242ac110002row1_col1\" class=\"data row1 col1\" >1</td>\n",
       "                        <td id=\"T_fdbe13a8_bc39_11ea_b126_0242ac110002row1_col2\" class=\"data row1 col2\" ></td>\n",
       "            </tr>\n",
       "    </tbody></table>"
      ],
      "text/plain": [
       "<pandas.io.formats.style.Styler at 0x7fef01422710>"
      ]
     },
     "execution_count": 9,
     "metadata": {},
     "output_type": "execute_result"
    }
   ],
   "source": [
    "s.as_table()"
   ]
  },
  {
   "cell_type": "code",
   "execution_count": null,
   "metadata": {},
   "outputs": [],
   "source": []
  }
 ],
 "metadata": {
  "kernelspec": {
   "display_name": "Python 3",
   "language": "python",
   "name": "python3"
  },
  "language_info": {
   "codemirror_mode": {
    "name": "ipython",
    "version": 3
   },
   "file_extension": ".py",
   "mimetype": "text/x-python",
   "name": "python",
   "nbconvert_exporter": "python",
   "pygments_lexer": "ipython3",
   "version": "3.7.6"
  }
 },
 "nbformat": 4,
 "nbformat_minor": 2
}
