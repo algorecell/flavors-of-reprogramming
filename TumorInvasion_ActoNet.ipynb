{
 "cells": [
  {
   "cell_type": "code",
   "execution_count": 1,
   "metadata": {},
   "outputs": [
    {
     "data": {
      "text/markdown": [
       "This notebook has been executed using the docker image `colomoto/colomoto-docker:2020-07-01`"
      ],
      "text/plain": [
       "<IPython.core.display.Markdown object>"
      ]
     },
     "metadata": {},
     "output_type": "display_data"
    }
   ],
   "source": [
    "import actonet\n",
    "import biolqm"
   ]
  },
  {
   "cell_type": "code",
   "execution_count": 2,
   "metadata": {},
   "outputs": [
    {
     "data": {
      "text/markdown": [
       "Downloading http://ginsim.org/sites/default/files/SuppMat_Model_Master_Model.zginml"
      ],
      "text/plain": [
       "<IPython.core.display.Markdown object>"
      ]
     },
     "metadata": {},
     "output_type": "display_data"
    }
   ],
   "source": [
    "model = biolqm.load(\"http://ginsim.org/sites/default/files/SuppMat_Model_Master_Model.zginml\")"
   ]
  },
  {
   "cell_type": "code",
   "execution_count": 3,
   "metadata": {},
   "outputs": [],
   "source": [
    "target = {\"CellCycleArrest\": 1,\"EMT\":1,\"Invasion\":1,\"Migration\":1,\"Metastasis\":1,\"Apoptosis\":0}"
   ]
  },
  {
   "cell_type": "code",
   "execution_count": 4,
   "metadata": {},
   "outputs": [],
   "source": [
    "act = actonet.ActoNet(model)"
   ]
  },
  {
   "cell_type": "code",
   "execution_count": 5,
   "metadata": {},
   "outputs": [],
   "source": [
    "r = act.reprogramming_fixpoints(target, maxsize=2)"
   ]
  },
  {
   "cell_type": "code",
   "execution_count": 6,
   "metadata": {},
   "outputs": [
    {
     "data": {
      "text/plain": [
       "[FromAny(PermanentPerturbation(NICD=1, p53=0)),\n",
       " FromAny(PermanentPerturbation(NICD=1, p73=1)),\n",
       " FromAny(PermanentPerturbation(DNAdamage=0, ECMicroenv=1)),\n",
       " FromAny(PermanentPerturbation(NICD=1, SNAI2=1)),\n",
       " FromAny(PermanentPerturbation(AKT2=1, ECMicroenv=1)),\n",
       " FromAny(PermanentPerturbation(AKT2=1, NICD=1)),\n",
       " FromAny(PermanentPerturbation(AKT2=1, SNAI1=0)),\n",
       " FromAny(PermanentPerturbation(AKT2=1, TGFbeta=1)),\n",
       " FromAny(PermanentPerturbation(AKT2=1, Invasion=1)),\n",
       " FromAny(PermanentPerturbation(AKT2=1, SMAD=1))]"
      ]
     },
     "execution_count": 6,
     "metadata": {},
     "output_type": "execute_result"
    }
   ],
   "source": [
    "r"
   ]
  },
  {
   "cell_type": "code",
   "execution_count": 7,
   "metadata": {},
   "outputs": [
    {
     "data": {
      "text/html": [
       "<style  type=\"text/css\" >\n",
       "    #T_f3aff268_bc3a_11ea_9447_0242ac110002 th {\n",
       "          border-right: 1px solid black;\n",
       "    }    #T_f3aff268_bc3a_11ea_9447_0242ac110002 td {\n",
       "          border-right: 1px solid black;\n",
       "          min-width: 2em;\n",
       "    }    #T_f3aff268_bc3a_11ea_9447_0242ac110002 th.col_heading {\n",
       "          writing-mode: vertical-lr;\n",
       "          transform: rotateZ(180deg);\n",
       "          vertical-align: top;\n",
       "          border-bottom: 1px solid black;\n",
       "          text-orientation: mixed;\n",
       "    }    #T_f3aff268_bc3a_11ea_9447_0242ac110002row0_col4 {\n",
       "            color:  black;\n",
       "             background-color:  red;\n",
       "        }    #T_f3aff268_bc3a_11ea_9447_0242ac110002row0_col10 {\n",
       "            color:  black;\n",
       "             background-color:  red;\n",
       "        }    #T_f3aff268_bc3a_11ea_9447_0242ac110002row1_col4 {\n",
       "            color:  black;\n",
       "             background-color:  red;\n",
       "        }    #T_f3aff268_bc3a_11ea_9447_0242ac110002row1_col9 {\n",
       "            color:  black;\n",
       "             background-color:  lime;\n",
       "        }    #T_f3aff268_bc3a_11ea_9447_0242ac110002row2_col4 {\n",
       "            color:  black;\n",
       "             background-color:  red;\n",
       "        }    #T_f3aff268_bc3a_11ea_9447_0242ac110002row2_col7 {\n",
       "            color:  black;\n",
       "             background-color:  red;\n",
       "        }    #T_f3aff268_bc3a_11ea_9447_0242ac110002row3_col1 {\n",
       "            color:  black;\n",
       "             background-color:  lime;\n",
       "        }    #T_f3aff268_bc3a_11ea_9447_0242ac110002row3_col2 {\n",
       "            color:  black;\n",
       "             background-color:  red;\n",
       "        }    #T_f3aff268_bc3a_11ea_9447_0242ac110002row4_col0 {\n",
       "            color:  black;\n",
       "             background-color:  red;\n",
       "        }    #T_f3aff268_bc3a_11ea_9447_0242ac110002row4_col8 {\n",
       "            color:  black;\n",
       "             background-color:  red;\n",
       "        }    #T_f3aff268_bc3a_11ea_9447_0242ac110002row5_col0 {\n",
       "            color:  black;\n",
       "             background-color:  red;\n",
       "        }    #T_f3aff268_bc3a_11ea_9447_0242ac110002row5_col6 {\n",
       "            color:  black;\n",
       "             background-color:  lime;\n",
       "        }    #T_f3aff268_bc3a_11ea_9447_0242ac110002row6_col0 {\n",
       "            color:  black;\n",
       "             background-color:  red;\n",
       "        }    #T_f3aff268_bc3a_11ea_9447_0242ac110002row6_col5 {\n",
       "            color:  black;\n",
       "             background-color:  red;\n",
       "        }    #T_f3aff268_bc3a_11ea_9447_0242ac110002row7_col0 {\n",
       "            color:  black;\n",
       "             background-color:  red;\n",
       "        }    #T_f3aff268_bc3a_11ea_9447_0242ac110002row7_col4 {\n",
       "            color:  black;\n",
       "             background-color:  red;\n",
       "        }    #T_f3aff268_bc3a_11ea_9447_0242ac110002row8_col0 {\n",
       "            color:  black;\n",
       "             background-color:  red;\n",
       "        }    #T_f3aff268_bc3a_11ea_9447_0242ac110002row8_col3 {\n",
       "            color:  black;\n",
       "             background-color:  red;\n",
       "        }    #T_f3aff268_bc3a_11ea_9447_0242ac110002row9_col0 {\n",
       "            color:  black;\n",
       "             background-color:  red;\n",
       "        }    #T_f3aff268_bc3a_11ea_9447_0242ac110002row9_col2 {\n",
       "            color:  black;\n",
       "             background-color:  red;\n",
       "        }</style><table id=\"T_f3aff268_bc3a_11ea_9447_0242ac110002\" ><thead>    <tr>        <th class=\"blank level0\" ></th>        <th class=\"col_heading level0 col0\" >AKT2</th>        <th class=\"col_heading level0 col1\" >DNAdamage</th>        <th class=\"col_heading level0 col2\" >ECMicroenv</th>        <th class=\"col_heading level0 col3\" >Invasion</th>        <th class=\"col_heading level0 col4\" >NICD</th>        <th class=\"col_heading level0 col5\" >SMAD</th>        <th class=\"col_heading level0 col6\" >SNAI1</th>        <th class=\"col_heading level0 col7\" >SNAI2</th>        <th class=\"col_heading level0 col8\" >TGFbeta</th>        <th class=\"col_heading level0 col9\" >p53</th>        <th class=\"col_heading level0 col10\" >p73</th>    </tr></thead><tbody>\n",
       "                <tr>\n",
       "                        <th id=\"T_f3aff268_bc3a_11ea_9447_0242ac110002level0_row0\" class=\"row_heading level0 row0\" >0</th>\n",
       "                        <td id=\"T_f3aff268_bc3a_11ea_9447_0242ac110002row0_col0\" class=\"data row0 col0\" ></td>\n",
       "                        <td id=\"T_f3aff268_bc3a_11ea_9447_0242ac110002row0_col1\" class=\"data row0 col1\" ></td>\n",
       "                        <td id=\"T_f3aff268_bc3a_11ea_9447_0242ac110002row0_col2\" class=\"data row0 col2\" ></td>\n",
       "                        <td id=\"T_f3aff268_bc3a_11ea_9447_0242ac110002row0_col3\" class=\"data row0 col3\" ></td>\n",
       "                        <td id=\"T_f3aff268_bc3a_11ea_9447_0242ac110002row0_col4\" class=\"data row0 col4\" >1</td>\n",
       "                        <td id=\"T_f3aff268_bc3a_11ea_9447_0242ac110002row0_col5\" class=\"data row0 col5\" ></td>\n",
       "                        <td id=\"T_f3aff268_bc3a_11ea_9447_0242ac110002row0_col6\" class=\"data row0 col6\" ></td>\n",
       "                        <td id=\"T_f3aff268_bc3a_11ea_9447_0242ac110002row0_col7\" class=\"data row0 col7\" ></td>\n",
       "                        <td id=\"T_f3aff268_bc3a_11ea_9447_0242ac110002row0_col8\" class=\"data row0 col8\" ></td>\n",
       "                        <td id=\"T_f3aff268_bc3a_11ea_9447_0242ac110002row0_col9\" class=\"data row0 col9\" ></td>\n",
       "                        <td id=\"T_f3aff268_bc3a_11ea_9447_0242ac110002row0_col10\" class=\"data row0 col10\" >1</td>\n",
       "            </tr>\n",
       "            <tr>\n",
       "                        <th id=\"T_f3aff268_bc3a_11ea_9447_0242ac110002level0_row1\" class=\"row_heading level0 row1\" >1</th>\n",
       "                        <td id=\"T_f3aff268_bc3a_11ea_9447_0242ac110002row1_col0\" class=\"data row1 col0\" ></td>\n",
       "                        <td id=\"T_f3aff268_bc3a_11ea_9447_0242ac110002row1_col1\" class=\"data row1 col1\" ></td>\n",
       "                        <td id=\"T_f3aff268_bc3a_11ea_9447_0242ac110002row1_col2\" class=\"data row1 col2\" ></td>\n",
       "                        <td id=\"T_f3aff268_bc3a_11ea_9447_0242ac110002row1_col3\" class=\"data row1 col3\" ></td>\n",
       "                        <td id=\"T_f3aff268_bc3a_11ea_9447_0242ac110002row1_col4\" class=\"data row1 col4\" >1</td>\n",
       "                        <td id=\"T_f3aff268_bc3a_11ea_9447_0242ac110002row1_col5\" class=\"data row1 col5\" ></td>\n",
       "                        <td id=\"T_f3aff268_bc3a_11ea_9447_0242ac110002row1_col6\" class=\"data row1 col6\" ></td>\n",
       "                        <td id=\"T_f3aff268_bc3a_11ea_9447_0242ac110002row1_col7\" class=\"data row1 col7\" ></td>\n",
       "                        <td id=\"T_f3aff268_bc3a_11ea_9447_0242ac110002row1_col8\" class=\"data row1 col8\" ></td>\n",
       "                        <td id=\"T_f3aff268_bc3a_11ea_9447_0242ac110002row1_col9\" class=\"data row1 col9\" >0</td>\n",
       "                        <td id=\"T_f3aff268_bc3a_11ea_9447_0242ac110002row1_col10\" class=\"data row1 col10\" ></td>\n",
       "            </tr>\n",
       "            <tr>\n",
       "                        <th id=\"T_f3aff268_bc3a_11ea_9447_0242ac110002level0_row2\" class=\"row_heading level0 row2\" >2</th>\n",
       "                        <td id=\"T_f3aff268_bc3a_11ea_9447_0242ac110002row2_col0\" class=\"data row2 col0\" ></td>\n",
       "                        <td id=\"T_f3aff268_bc3a_11ea_9447_0242ac110002row2_col1\" class=\"data row2 col1\" ></td>\n",
       "                        <td id=\"T_f3aff268_bc3a_11ea_9447_0242ac110002row2_col2\" class=\"data row2 col2\" ></td>\n",
       "                        <td id=\"T_f3aff268_bc3a_11ea_9447_0242ac110002row2_col3\" class=\"data row2 col3\" ></td>\n",
       "                        <td id=\"T_f3aff268_bc3a_11ea_9447_0242ac110002row2_col4\" class=\"data row2 col4\" >1</td>\n",
       "                        <td id=\"T_f3aff268_bc3a_11ea_9447_0242ac110002row2_col5\" class=\"data row2 col5\" ></td>\n",
       "                        <td id=\"T_f3aff268_bc3a_11ea_9447_0242ac110002row2_col6\" class=\"data row2 col6\" ></td>\n",
       "                        <td id=\"T_f3aff268_bc3a_11ea_9447_0242ac110002row2_col7\" class=\"data row2 col7\" >1</td>\n",
       "                        <td id=\"T_f3aff268_bc3a_11ea_9447_0242ac110002row2_col8\" class=\"data row2 col8\" ></td>\n",
       "                        <td id=\"T_f3aff268_bc3a_11ea_9447_0242ac110002row2_col9\" class=\"data row2 col9\" ></td>\n",
       "                        <td id=\"T_f3aff268_bc3a_11ea_9447_0242ac110002row2_col10\" class=\"data row2 col10\" ></td>\n",
       "            </tr>\n",
       "            <tr>\n",
       "                        <th id=\"T_f3aff268_bc3a_11ea_9447_0242ac110002level0_row3\" class=\"row_heading level0 row3\" >3</th>\n",
       "                        <td id=\"T_f3aff268_bc3a_11ea_9447_0242ac110002row3_col0\" class=\"data row3 col0\" ></td>\n",
       "                        <td id=\"T_f3aff268_bc3a_11ea_9447_0242ac110002row3_col1\" class=\"data row3 col1\" >0</td>\n",
       "                        <td id=\"T_f3aff268_bc3a_11ea_9447_0242ac110002row3_col2\" class=\"data row3 col2\" >1</td>\n",
       "                        <td id=\"T_f3aff268_bc3a_11ea_9447_0242ac110002row3_col3\" class=\"data row3 col3\" ></td>\n",
       "                        <td id=\"T_f3aff268_bc3a_11ea_9447_0242ac110002row3_col4\" class=\"data row3 col4\" ></td>\n",
       "                        <td id=\"T_f3aff268_bc3a_11ea_9447_0242ac110002row3_col5\" class=\"data row3 col5\" ></td>\n",
       "                        <td id=\"T_f3aff268_bc3a_11ea_9447_0242ac110002row3_col6\" class=\"data row3 col6\" ></td>\n",
       "                        <td id=\"T_f3aff268_bc3a_11ea_9447_0242ac110002row3_col7\" class=\"data row3 col7\" ></td>\n",
       "                        <td id=\"T_f3aff268_bc3a_11ea_9447_0242ac110002row3_col8\" class=\"data row3 col8\" ></td>\n",
       "                        <td id=\"T_f3aff268_bc3a_11ea_9447_0242ac110002row3_col9\" class=\"data row3 col9\" ></td>\n",
       "                        <td id=\"T_f3aff268_bc3a_11ea_9447_0242ac110002row3_col10\" class=\"data row3 col10\" ></td>\n",
       "            </tr>\n",
       "            <tr>\n",
       "                        <th id=\"T_f3aff268_bc3a_11ea_9447_0242ac110002level0_row4\" class=\"row_heading level0 row4\" >4</th>\n",
       "                        <td id=\"T_f3aff268_bc3a_11ea_9447_0242ac110002row4_col0\" class=\"data row4 col0\" >1</td>\n",
       "                        <td id=\"T_f3aff268_bc3a_11ea_9447_0242ac110002row4_col1\" class=\"data row4 col1\" ></td>\n",
       "                        <td id=\"T_f3aff268_bc3a_11ea_9447_0242ac110002row4_col2\" class=\"data row4 col2\" ></td>\n",
       "                        <td id=\"T_f3aff268_bc3a_11ea_9447_0242ac110002row4_col3\" class=\"data row4 col3\" ></td>\n",
       "                        <td id=\"T_f3aff268_bc3a_11ea_9447_0242ac110002row4_col4\" class=\"data row4 col4\" ></td>\n",
       "                        <td id=\"T_f3aff268_bc3a_11ea_9447_0242ac110002row4_col5\" class=\"data row4 col5\" ></td>\n",
       "                        <td id=\"T_f3aff268_bc3a_11ea_9447_0242ac110002row4_col6\" class=\"data row4 col6\" ></td>\n",
       "                        <td id=\"T_f3aff268_bc3a_11ea_9447_0242ac110002row4_col7\" class=\"data row4 col7\" ></td>\n",
       "                        <td id=\"T_f3aff268_bc3a_11ea_9447_0242ac110002row4_col8\" class=\"data row4 col8\" >1</td>\n",
       "                        <td id=\"T_f3aff268_bc3a_11ea_9447_0242ac110002row4_col9\" class=\"data row4 col9\" ></td>\n",
       "                        <td id=\"T_f3aff268_bc3a_11ea_9447_0242ac110002row4_col10\" class=\"data row4 col10\" ></td>\n",
       "            </tr>\n",
       "            <tr>\n",
       "                        <th id=\"T_f3aff268_bc3a_11ea_9447_0242ac110002level0_row5\" class=\"row_heading level0 row5\" >5</th>\n",
       "                        <td id=\"T_f3aff268_bc3a_11ea_9447_0242ac110002row5_col0\" class=\"data row5 col0\" >1</td>\n",
       "                        <td id=\"T_f3aff268_bc3a_11ea_9447_0242ac110002row5_col1\" class=\"data row5 col1\" ></td>\n",
       "                        <td id=\"T_f3aff268_bc3a_11ea_9447_0242ac110002row5_col2\" class=\"data row5 col2\" ></td>\n",
       "                        <td id=\"T_f3aff268_bc3a_11ea_9447_0242ac110002row5_col3\" class=\"data row5 col3\" ></td>\n",
       "                        <td id=\"T_f3aff268_bc3a_11ea_9447_0242ac110002row5_col4\" class=\"data row5 col4\" ></td>\n",
       "                        <td id=\"T_f3aff268_bc3a_11ea_9447_0242ac110002row5_col5\" class=\"data row5 col5\" ></td>\n",
       "                        <td id=\"T_f3aff268_bc3a_11ea_9447_0242ac110002row5_col6\" class=\"data row5 col6\" >0</td>\n",
       "                        <td id=\"T_f3aff268_bc3a_11ea_9447_0242ac110002row5_col7\" class=\"data row5 col7\" ></td>\n",
       "                        <td id=\"T_f3aff268_bc3a_11ea_9447_0242ac110002row5_col8\" class=\"data row5 col8\" ></td>\n",
       "                        <td id=\"T_f3aff268_bc3a_11ea_9447_0242ac110002row5_col9\" class=\"data row5 col9\" ></td>\n",
       "                        <td id=\"T_f3aff268_bc3a_11ea_9447_0242ac110002row5_col10\" class=\"data row5 col10\" ></td>\n",
       "            </tr>\n",
       "            <tr>\n",
       "                        <th id=\"T_f3aff268_bc3a_11ea_9447_0242ac110002level0_row6\" class=\"row_heading level0 row6\" >6</th>\n",
       "                        <td id=\"T_f3aff268_bc3a_11ea_9447_0242ac110002row6_col0\" class=\"data row6 col0\" >1</td>\n",
       "                        <td id=\"T_f3aff268_bc3a_11ea_9447_0242ac110002row6_col1\" class=\"data row6 col1\" ></td>\n",
       "                        <td id=\"T_f3aff268_bc3a_11ea_9447_0242ac110002row6_col2\" class=\"data row6 col2\" ></td>\n",
       "                        <td id=\"T_f3aff268_bc3a_11ea_9447_0242ac110002row6_col3\" class=\"data row6 col3\" ></td>\n",
       "                        <td id=\"T_f3aff268_bc3a_11ea_9447_0242ac110002row6_col4\" class=\"data row6 col4\" ></td>\n",
       "                        <td id=\"T_f3aff268_bc3a_11ea_9447_0242ac110002row6_col5\" class=\"data row6 col5\" >1</td>\n",
       "                        <td id=\"T_f3aff268_bc3a_11ea_9447_0242ac110002row6_col6\" class=\"data row6 col6\" ></td>\n",
       "                        <td id=\"T_f3aff268_bc3a_11ea_9447_0242ac110002row6_col7\" class=\"data row6 col7\" ></td>\n",
       "                        <td id=\"T_f3aff268_bc3a_11ea_9447_0242ac110002row6_col8\" class=\"data row6 col8\" ></td>\n",
       "                        <td id=\"T_f3aff268_bc3a_11ea_9447_0242ac110002row6_col9\" class=\"data row6 col9\" ></td>\n",
       "                        <td id=\"T_f3aff268_bc3a_11ea_9447_0242ac110002row6_col10\" class=\"data row6 col10\" ></td>\n",
       "            </tr>\n",
       "            <tr>\n",
       "                        <th id=\"T_f3aff268_bc3a_11ea_9447_0242ac110002level0_row7\" class=\"row_heading level0 row7\" >7</th>\n",
       "                        <td id=\"T_f3aff268_bc3a_11ea_9447_0242ac110002row7_col0\" class=\"data row7 col0\" >1</td>\n",
       "                        <td id=\"T_f3aff268_bc3a_11ea_9447_0242ac110002row7_col1\" class=\"data row7 col1\" ></td>\n",
       "                        <td id=\"T_f3aff268_bc3a_11ea_9447_0242ac110002row7_col2\" class=\"data row7 col2\" ></td>\n",
       "                        <td id=\"T_f3aff268_bc3a_11ea_9447_0242ac110002row7_col3\" class=\"data row7 col3\" ></td>\n",
       "                        <td id=\"T_f3aff268_bc3a_11ea_9447_0242ac110002row7_col4\" class=\"data row7 col4\" >1</td>\n",
       "                        <td id=\"T_f3aff268_bc3a_11ea_9447_0242ac110002row7_col5\" class=\"data row7 col5\" ></td>\n",
       "                        <td id=\"T_f3aff268_bc3a_11ea_9447_0242ac110002row7_col6\" class=\"data row7 col6\" ></td>\n",
       "                        <td id=\"T_f3aff268_bc3a_11ea_9447_0242ac110002row7_col7\" class=\"data row7 col7\" ></td>\n",
       "                        <td id=\"T_f3aff268_bc3a_11ea_9447_0242ac110002row7_col8\" class=\"data row7 col8\" ></td>\n",
       "                        <td id=\"T_f3aff268_bc3a_11ea_9447_0242ac110002row7_col9\" class=\"data row7 col9\" ></td>\n",
       "                        <td id=\"T_f3aff268_bc3a_11ea_9447_0242ac110002row7_col10\" class=\"data row7 col10\" ></td>\n",
       "            </tr>\n",
       "            <tr>\n",
       "                        <th id=\"T_f3aff268_bc3a_11ea_9447_0242ac110002level0_row8\" class=\"row_heading level0 row8\" >8</th>\n",
       "                        <td id=\"T_f3aff268_bc3a_11ea_9447_0242ac110002row8_col0\" class=\"data row8 col0\" >1</td>\n",
       "                        <td id=\"T_f3aff268_bc3a_11ea_9447_0242ac110002row8_col1\" class=\"data row8 col1\" ></td>\n",
       "                        <td id=\"T_f3aff268_bc3a_11ea_9447_0242ac110002row8_col2\" class=\"data row8 col2\" ></td>\n",
       "                        <td id=\"T_f3aff268_bc3a_11ea_9447_0242ac110002row8_col3\" class=\"data row8 col3\" >1</td>\n",
       "                        <td id=\"T_f3aff268_bc3a_11ea_9447_0242ac110002row8_col4\" class=\"data row8 col4\" ></td>\n",
       "                        <td id=\"T_f3aff268_bc3a_11ea_9447_0242ac110002row8_col5\" class=\"data row8 col5\" ></td>\n",
       "                        <td id=\"T_f3aff268_bc3a_11ea_9447_0242ac110002row8_col6\" class=\"data row8 col6\" ></td>\n",
       "                        <td id=\"T_f3aff268_bc3a_11ea_9447_0242ac110002row8_col7\" class=\"data row8 col7\" ></td>\n",
       "                        <td id=\"T_f3aff268_bc3a_11ea_9447_0242ac110002row8_col8\" class=\"data row8 col8\" ></td>\n",
       "                        <td id=\"T_f3aff268_bc3a_11ea_9447_0242ac110002row8_col9\" class=\"data row8 col9\" ></td>\n",
       "                        <td id=\"T_f3aff268_bc3a_11ea_9447_0242ac110002row8_col10\" class=\"data row8 col10\" ></td>\n",
       "            </tr>\n",
       "            <tr>\n",
       "                        <th id=\"T_f3aff268_bc3a_11ea_9447_0242ac110002level0_row9\" class=\"row_heading level0 row9\" >9</th>\n",
       "                        <td id=\"T_f3aff268_bc3a_11ea_9447_0242ac110002row9_col0\" class=\"data row9 col0\" >1</td>\n",
       "                        <td id=\"T_f3aff268_bc3a_11ea_9447_0242ac110002row9_col1\" class=\"data row9 col1\" ></td>\n",
       "                        <td id=\"T_f3aff268_bc3a_11ea_9447_0242ac110002row9_col2\" class=\"data row9 col2\" >1</td>\n",
       "                        <td id=\"T_f3aff268_bc3a_11ea_9447_0242ac110002row9_col3\" class=\"data row9 col3\" ></td>\n",
       "                        <td id=\"T_f3aff268_bc3a_11ea_9447_0242ac110002row9_col4\" class=\"data row9 col4\" ></td>\n",
       "                        <td id=\"T_f3aff268_bc3a_11ea_9447_0242ac110002row9_col5\" class=\"data row9 col5\" ></td>\n",
       "                        <td id=\"T_f3aff268_bc3a_11ea_9447_0242ac110002row9_col6\" class=\"data row9 col6\" ></td>\n",
       "                        <td id=\"T_f3aff268_bc3a_11ea_9447_0242ac110002row9_col7\" class=\"data row9 col7\" ></td>\n",
       "                        <td id=\"T_f3aff268_bc3a_11ea_9447_0242ac110002row9_col8\" class=\"data row9 col8\" ></td>\n",
       "                        <td id=\"T_f3aff268_bc3a_11ea_9447_0242ac110002row9_col9\" class=\"data row9 col9\" ></td>\n",
       "                        <td id=\"T_f3aff268_bc3a_11ea_9447_0242ac110002row9_col10\" class=\"data row9 col10\" ></td>\n",
       "            </tr>\n",
       "    </tbody></table>"
      ],
      "text/plain": [
       "<pandas.io.formats.style.Styler at 0x7f0b9dad0b10>"
      ]
     },
     "execution_count": 7,
     "metadata": {},
     "output_type": "execute_result"
    }
   ],
   "source": [
    "r.as_table()"
   ]
  },
  {
   "cell_type": "code",
   "execution_count": null,
   "metadata": {},
   "outputs": [],
   "source": []
  }
 ],
 "metadata": {
  "kernelspec": {
   "display_name": "Python 3",
   "language": "python",
   "name": "python3"
  },
  "language_info": {
   "codemirror_mode": {
    "name": "ipython",
    "version": 3
   },
   "file_extension": ".py",
   "mimetype": "text/x-python",
   "name": "python",
   "nbconvert_exporter": "python",
   "pygments_lexer": "ipython3",
   "version": "3.7.6"
  }
 },
 "nbformat": 4,
 "nbformat_minor": 2
}
