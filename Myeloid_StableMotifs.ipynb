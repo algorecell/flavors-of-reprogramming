{
 "cells": [
  {
   "cell_type": "code",
   "execution_count": 1,
   "metadata": {},
   "outputs": [
    {
     "data": {
      "text/markdown": [
       "This notebook has been executed using the docker image `colomoto/colomoto-docker:2020-07-01`"
      ],
      "text/plain": [
       "<IPython.core.display.Markdown object>"
      ]
     },
     "metadata": {},
     "output_type": "display_data"
    }
   ],
   "source": [
    "import stablemotifs\n",
    "import biolqm\n",
    "from colomoto_jupyter import tabulate"
   ]
  },
  {
   "cell_type": "code",
   "execution_count": 2,
   "metadata": {},
   "outputs": [],
   "source": [
    "model = biolqm.load(\"MyeloidRules.txt\", \"booleannet\")"
   ]
  },
  {
   "cell_type": "code",
   "execution_count": 3,
   "metadata": {},
   "outputs": [
    {
     "name": "stdout",
     "output_type": "stream",
     "text": [
      "\n",
      "Filename: model.txt\n",
      "Creating Boolean table directory: model\n",
      "Boolean table directory created.\n",
      "Creating functions and names files.\n",
      "Functions and names files created.\n",
      "Performing network reduction...\n",
      "Finding stable motifs in this network...\n",
      "There are 3 stable motifs in this network: \n",
      "1/3\tCEBPA=0\t\n",
      "2/3\tGATA2=0\t\n",
      "3/3\tGATA1=1\tPU1=0\t\n",
      "Performing network reduction using motif 1/3...\n",
      "Performing network reduction using motif 2/3...\n",
      "Performing network reduction using motif 3/3...\n",
      "Network reduction complete.\n",
      "Removing duplicate quasi-attractors.\n",
      "Total number of quasi-attractors: 6\n",
      "Number of putative quasi-attractors: 0\n",
      "Total time for finding quasi-attractors: 6.017423192 s\n",
      "Writing TXT files with quasi-attractors and stable motifs.\n",
      "Starting analyis of stable motif succession diagram.\n",
      "Identifying quasi-attractors corresponding to stable motif sequences.\n",
      "Shortening stable motif sequences.\n",
      "Finding control sets for each stable motif...\n",
      "Creating control sets for each stable motif sequence.\n",
      "Removing duplicates control sets.\n",
      "Total time for finding stable motif control sets: 6.212646676 s\n",
      "Writing TXT files with stable motif control sets.\n",
      "Done!\n",
      "CPU times: user 19.5 ms, sys: 9.66 ms, total: 29.2 ms\n",
      "Wall time: 14 s\n"
     ]
    }
   ],
   "source": [
    "%time stm = stablemotifs.load(model)"
   ]
  },
  {
   "cell_type": "code",
   "execution_count": 4,
   "metadata": {},
   "outputs": [
    {
     "data": {
      "text/html": [
       "<div>\n",
       "<style scoped>\n",
       "    .dataframe tbody tr th:only-of-type {\n",
       "        vertical-align: middle;\n",
       "    }\n",
       "\n",
       "    .dataframe tbody tr th {\n",
       "        vertical-align: top;\n",
       "    }\n",
       "\n",
       "    .dataframe thead th {\n",
       "        text-align: right;\n",
       "    }\n",
       "</style>\n",
       "<table border=\"1\" class=\"dataframe\">\n",
       "  <thead>\n",
       "    <tr style=\"text-align: right;\">\n",
       "      <th></th>\n",
       "      <th>EgrNab</th>\n",
       "      <th>GATA1</th>\n",
       "      <th>GATA2</th>\n",
       "      <th>CEBPA</th>\n",
       "      <th>Fli1</th>\n",
       "      <th>cJun</th>\n",
       "      <th>Gfi1</th>\n",
       "      <th>FOG1</th>\n",
       "      <th>EKLF</th>\n",
       "      <th>PU1</th>\n",
       "      <th>SCL</th>\n",
       "    </tr>\n",
       "  </thead>\n",
       "  <tbody>\n",
       "    <tr>\n",
       "      <th>0</th>\n",
       "      <td>0</td>\n",
       "      <td>0</td>\n",
       "      <td>0</td>\n",
       "      <td>0</td>\n",
       "      <td>0</td>\n",
       "      <td>0</td>\n",
       "      <td>0</td>\n",
       "      <td>0</td>\n",
       "      <td>0</td>\n",
       "      <td>0</td>\n",
       "      <td>0</td>\n",
       "    </tr>\n",
       "    <tr>\n",
       "      <th>4</th>\n",
       "      <td>0</td>\n",
       "      <td>0</td>\n",
       "      <td>0</td>\n",
       "      <td>1</td>\n",
       "      <td>0</td>\n",
       "      <td>0</td>\n",
       "      <td>1</td>\n",
       "      <td>0</td>\n",
       "      <td>0</td>\n",
       "      <td>1</td>\n",
       "      <td>0</td>\n",
       "    </tr>\n",
       "    <tr>\n",
       "      <th>3</th>\n",
       "      <td>0</td>\n",
       "      <td>1</td>\n",
       "      <td>0</td>\n",
       "      <td>0</td>\n",
       "      <td>0</td>\n",
       "      <td>0</td>\n",
       "      <td>0</td>\n",
       "      <td>1</td>\n",
       "      <td>1</td>\n",
       "      <td>0</td>\n",
       "      <td>1</td>\n",
       "    </tr>\n",
       "    <tr>\n",
       "      <th>2</th>\n",
       "      <td>0</td>\n",
       "      <td>1</td>\n",
       "      <td>0</td>\n",
       "      <td>0</td>\n",
       "      <td>1</td>\n",
       "      <td>0</td>\n",
       "      <td>0</td>\n",
       "      <td>1</td>\n",
       "      <td>0</td>\n",
       "      <td>0</td>\n",
       "      <td>1</td>\n",
       "    </tr>\n",
       "    <tr>\n",
       "      <th>1</th>\n",
       "      <td>1</td>\n",
       "      <td>0</td>\n",
       "      <td>0</td>\n",
       "      <td>0</td>\n",
       "      <td>0</td>\n",
       "      <td>1</td>\n",
       "      <td>0</td>\n",
       "      <td>0</td>\n",
       "      <td>0</td>\n",
       "      <td>1</td>\n",
       "      <td>0</td>\n",
       "    </tr>\n",
       "    <tr>\n",
       "      <th>5</th>\n",
       "      <td>1</td>\n",
       "      <td>0</td>\n",
       "      <td>0</td>\n",
       "      <td>1</td>\n",
       "      <td>0</td>\n",
       "      <td>1</td>\n",
       "      <td>0</td>\n",
       "      <td>0</td>\n",
       "      <td>0</td>\n",
       "      <td>1</td>\n",
       "      <td>0</td>\n",
       "    </tr>\n",
       "  </tbody>\n",
       "</table>\n",
       "</div>"
      ],
      "text/plain": [
       "   EgrNab  GATA1  GATA2  CEBPA  Fli1  cJun  Gfi1  FOG1  EKLF  PU1  SCL\n",
       "0       0      0      0      0     0     0     0     0     0    0    0\n",
       "4       0      0      0      1     0     0     1     0     0    1    0\n",
       "3       0      1      0      0     0     0     0     1     1    0    1\n",
       "2       0      1      0      0     1     0     0     1     0    0    1\n",
       "1       1      0      0      0     0     1     0     0     0    1    0\n",
       "5       1      0      0      1     0     1     0     0     0    1    0"
      ]
     },
     "execution_count": 4,
     "metadata": {},
     "output_type": "execute_result"
    }
   ],
   "source": [
    "tabulate(stm.attractors)"
   ]
  },
  {
   "cell_type": "code",
   "execution_count": 5,
   "metadata": {},
   "outputs": [
    {
     "data": {
      "text/plain": [
       "[{'CEBPA': 0},\n",
       " {'GATA2': 0},\n",
       " {'GATA1': 1, 'PU1': 0},\n",
       " {'PU1': 0},\n",
       " {'Fli1': 0, 'GATA1': 0},\n",
       " {'GATA1': 0, 'PU1': 1},\n",
       " {'PU1': 1},\n",
       " {'GATA1': 1},\n",
       " {'EKLF': 0, 'Fli1': 1},\n",
       " {'EKLF': 1, 'Fli1': 0},\n",
       " {'CEBPA': 1},\n",
       " {'EgrNab': 0, 'Gfi1': 1},\n",
       " {'EgrNab': 1, 'Gfi1': 0, 'cJun': 1}]"
      ]
     },
     "execution_count": 5,
     "metadata": {},
     "output_type": "execute_result"
    }
   ],
   "source": [
    "stm.stable_motifs"
   ]
  },
  {
   "cell_type": "code",
   "execution_count": 6,
   "metadata": {},
   "outputs": [
    {
     "data": {
      "text/plain": [
       "[FromAny(TemporaryPerturbation(CEBPA=1, EgrNab=1, GATA1=0, GATA2=0)),\n",
       " FromAny(TemporaryPerturbation(CEBPA=1, GATA1=0, GATA2=0, Gfi1=0)),\n",
       " FromAny(TemporaryPerturbation(CEBPA=1, EgrNab=1, GATA2=0, PU1=1)),\n",
       " FromAny(TemporaryPerturbation(CEBPA=1, GATA2=0, Gfi1=0, PU1=1))]"
      ]
     },
     "execution_count": 6,
     "metadata": {},
     "output_type": "execute_result"
    }
   ],
   "source": [
    "s = stm.reprogramming_to_attractor(EgrNab=1, CEBPA=1)\n",
    "s"
   ]
  },
  {
   "cell_type": "code",
   "execution_count": 7,
   "metadata": {},
   "outputs": [
    {
     "data": {
      "image/svg+xml": [
       "<?xml version=\"1.0\" encoding=\"UTF-8\" standalone=\"no\"?>\n",
       "<!DOCTYPE svg PUBLIC \"-//W3C//DTD SVG 1.1//EN\"\n",
       " \"http://www.w3.org/Graphics/SVG/1.1/DTD/svg11.dtd\">\n",
       "<!-- Generated by graphviz version 2.38.0 (20140413.2041)\n",
       " -->\n",
       "<!-- Title: %3 Pages: 1 -->\n",
       "<svg width=\"418pt\" height=\"136pt\"\n",
       " viewBox=\"0.00 0.00 418.14 136.21\" xmlns=\"http://www.w3.org/2000/svg\" xmlns:xlink=\"http://www.w3.org/1999/xlink\">\n",
       "<g id=\"graph0\" class=\"graph\" transform=\"scale(1 1) rotate(0) translate(4 132.212)\">\n",
       "<title>%3</title>\n",
       "<polygon fill=\"white\" stroke=\"none\" points=\"-4,4 -4,-132.212 414.137,-132.212 414.137,4 -4,4\"/>\n",
       "<!-- target -->\n",
       "<g id=\"node1\" class=\"node\"><title>target</title>\n",
       "<polygon fill=\"palegreen\" stroke=\"black\" points=\"354.069,-86.2124 297.931,-68.2124 354.069,-50.2124 410.206,-68.2124 354.069,-86.2124\"/>\n",
       "<polyline fill=\"none\" stroke=\"black\" points=\"309.358,-71.8764 309.358,-64.5485 \"/>\n",
       "<polyline fill=\"none\" stroke=\"black\" points=\"342.642,-53.8764 365.496,-53.8764 \"/>\n",
       "<polyline fill=\"none\" stroke=\"black\" points=\"398.779,-64.5485 398.779,-71.8764 \"/>\n",
       "<polyline fill=\"none\" stroke=\"black\" points=\"365.496,-82.5485 342.642,-82.5485 \"/>\n",
       "<text text-anchor=\"middle\" x=\"354.069\" y=\"-64.5124\" font-family=\"Times,serif\" font-size=\"14.00\">target</text>\n",
       "</g>\n",
       "<!-- any -->\n",
       "<g id=\"node2\" class=\"node\"><title>any</title>\n",
       "<g id=\"a_node2\"><a xlink:title=\"Any\">\n",
       "<ellipse fill=\"none\" stroke=\"black\" stroke-dasharray=\"1,5\" cx=\"18\" cy=\"-68.2124\" rx=\"18\" ry=\"18\"/>\n",
       "</a>\n",
       "</g>\n",
       "</g>\n",
       "<!-- any&#45;&gt;target -->\n",
       "<g id=\"edge1\" class=\"edge\"><title>any&#45;&gt;target</title>\n",
       "<path fill=\"none\" stroke=\"black\" d=\"M30.596,-81.3513C36.8444,-87.4286 45.0916,-94.0013 54,-97.2124 148.493,-131.273 181.343,-116.075 280,-97.2124 294.421,-94.4553 309.625,-88.8942 322.408,-83.3727\"/>\n",
       "<polygon fill=\"black\" stroke=\"black\" points=\"323.978,-86.5043 331.657,-79.2052 321.102,-80.1221 323.978,-86.5043\"/>\n",
       "<g id=\"a_edge1&#45;label\"><a xlink:title=\"TemporaryPerturbation(CEBPA=1, EgrNab=1, GATA1=0, GATA2=0)\">\n",
       "<text text-anchor=\"middle\" x=\"167\" y=\"-120.212\" font-family=\"Times,serif\" font-size=\"10.00\">T(CEBPA=1, EgrNab=1, GATA1=0, GATA2=0)</text>\n",
       "</a>\n",
       "</g>\n",
       "</g>\n",
       "<!-- any&#45;&gt;target -->\n",
       "<g id=\"edge2\" class=\"edge\"><title>any&#45;&gt;target</title>\n",
       "<path fill=\"none\" stroke=\"black\" d=\"M36.0258,-68.2124C81.7082,-68.2124 208.845,-68.2124 287.547,-68.2124\"/>\n",
       "<polygon fill=\"black\" stroke=\"black\" points=\"287.843,-71.7125 297.842,-68.2124 287.842,-64.7125 287.843,-71.7125\"/>\n",
       "<g id=\"a_edge2&#45;label\"><a xlink:title=\"TemporaryPerturbation(CEBPA=1, GATA1=0, GATA2=0, Gfi1=0)\">\n",
       "<text text-anchor=\"middle\" x=\"167\" y=\"-71.2124\" font-family=\"Times,serif\" font-size=\"10.00\">T(CEBPA=1, GATA1=0, GATA2=0, Gfi1=0)</text>\n",
       "</a>\n",
       "</g>\n",
       "</g>\n",
       "<!-- any&#45;&gt;target -->\n",
       "<g id=\"edge3\" class=\"edge\"><title>any&#45;&gt;target</title>\n",
       "<path fill=\"none\" stroke=\"black\" d=\"M34.2412,-60.0898C40.2259,-57.3296 47.2651,-54.5948 54,-53.2124 152.393,-33.0165 180.07,-43.0611 280,-53.2124 290.436,-54.2726 301.583,-56.1635 311.946,-58.2534\"/>\n",
       "<polygon fill=\"black\" stroke=\"black\" points=\"311.484,-61.7332 321.993,-60.3862 312.938,-54.8858 311.484,-61.7332\"/>\n",
       "<g id=\"a_edge3&#45;label\"><a xlink:title=\"TemporaryPerturbation(CEBPA=1, EgrNab=1, GATA2=0, PU1=1)\">\n",
       "<text text-anchor=\"middle\" x=\"167\" y=\"-56.2124\" font-family=\"Times,serif\" font-size=\"10.00\">T(CEBPA=1, EgrNab=1, GATA2=0, PU1=1)</text>\n",
       "</a>\n",
       "</g>\n",
       "</g>\n",
       "<!-- any&#45;&gt;target -->\n",
       "<g id=\"edge4\" class=\"edge\"><title>any&#45;&gt;target</title>\n",
       "<path fill=\"none\" stroke=\"black\" d=\"M27.4228,-52.3635C33.4324,-42.8617 42.482,-31.6072 54,-26.2124 144.961,16.3916 182.953,-0.308318 280,-26.2124 297.395,-30.8556 314.949,-40.7384 328.49,-49.7512\"/>\n",
       "<polygon fill=\"black\" stroke=\"black\" points=\"326.554,-52.6676 336.767,-55.4845 330.54,-46.9132 326.554,-52.6676\"/>\n",
       "<g id=\"a_edge4&#45;label\"><a xlink:title=\"TemporaryPerturbation(CEBPA=1, GATA2=0, Gfi1=0, PU1=1)\">\n",
       "<text text-anchor=\"middle\" x=\"167\" y=\"-29.2124\" font-family=\"Times,serif\" font-size=\"10.00\">T(CEBPA=1, GATA2=0, Gfi1=0, PU1=1)</text>\n",
       "</a>\n",
       "</g>\n",
       "</g>\n",
       "</g>\n",
       "</svg>\n"
      ],
      "text/plain": [
       "<pydot.Dot at 0x7fcb15bd8950>"
      ]
     },
     "execution_count": 7,
     "metadata": {},
     "output_type": "execute_result"
    }
   ],
   "source": [
    "s.as_graph()"
   ]
  },
  {
   "cell_type": "code",
   "execution_count": 8,
   "metadata": {},
   "outputs": [
    {
     "data": {
      "text/html": [
       "<style  type=\"text/css\" >\n",
       "    #T_0eaa2d28_bc3a_11ea_ab72_0242ac110002 th {\n",
       "          border-right: 1px solid black;\n",
       "    }    #T_0eaa2d28_bc3a_11ea_ab72_0242ac110002 td {\n",
       "          border-right: 1px solid black;\n",
       "          min-width: 2em;\n",
       "    }    #T_0eaa2d28_bc3a_11ea_ab72_0242ac110002 th.col_heading {\n",
       "          writing-mode: vertical-lr;\n",
       "          transform: rotateZ(180deg);\n",
       "          vertical-align: top;\n",
       "          border-bottom: 1px solid black;\n",
       "          text-orientation: mixed;\n",
       "    }    #T_0eaa2d28_bc3a_11ea_ab72_0242ac110002row0_col0 {\n",
       "            color:  black;\n",
       "             background-color:  red;\n",
       "        }    #T_0eaa2d28_bc3a_11ea_ab72_0242ac110002row0_col3 {\n",
       "            color:  black;\n",
       "             background-color:  lime;\n",
       "        }    #T_0eaa2d28_bc3a_11ea_ab72_0242ac110002row0_col4 {\n",
       "            color:  black;\n",
       "             background-color:  lime;\n",
       "        }    #T_0eaa2d28_bc3a_11ea_ab72_0242ac110002row0_col5 {\n",
       "            color:  black;\n",
       "             background-color:  red;\n",
       "        }    #T_0eaa2d28_bc3a_11ea_ab72_0242ac110002row1_col0 {\n",
       "            color:  black;\n",
       "             background-color:  red;\n",
       "        }    #T_0eaa2d28_bc3a_11ea_ab72_0242ac110002row1_col2 {\n",
       "            color:  black;\n",
       "             background-color:  lime;\n",
       "        }    #T_0eaa2d28_bc3a_11ea_ab72_0242ac110002row1_col3 {\n",
       "            color:  black;\n",
       "             background-color:  lime;\n",
       "        }    #T_0eaa2d28_bc3a_11ea_ab72_0242ac110002row1_col4 {\n",
       "            color:  black;\n",
       "             background-color:  lime;\n",
       "        }    #T_0eaa2d28_bc3a_11ea_ab72_0242ac110002row2_col0 {\n",
       "            color:  black;\n",
       "             background-color:  red;\n",
       "        }    #T_0eaa2d28_bc3a_11ea_ab72_0242ac110002row2_col1 {\n",
       "            color:  black;\n",
       "             background-color:  red;\n",
       "        }    #T_0eaa2d28_bc3a_11ea_ab72_0242ac110002row2_col3 {\n",
       "            color:  black;\n",
       "             background-color:  lime;\n",
       "        }    #T_0eaa2d28_bc3a_11ea_ab72_0242ac110002row2_col5 {\n",
       "            color:  black;\n",
       "             background-color:  red;\n",
       "        }    #T_0eaa2d28_bc3a_11ea_ab72_0242ac110002row3_col0 {\n",
       "            color:  black;\n",
       "             background-color:  red;\n",
       "        }    #T_0eaa2d28_bc3a_11ea_ab72_0242ac110002row3_col1 {\n",
       "            color:  black;\n",
       "             background-color:  red;\n",
       "        }    #T_0eaa2d28_bc3a_11ea_ab72_0242ac110002row3_col2 {\n",
       "            color:  black;\n",
       "             background-color:  lime;\n",
       "        }    #T_0eaa2d28_bc3a_11ea_ab72_0242ac110002row3_col3 {\n",
       "            color:  black;\n",
       "             background-color:  lime;\n",
       "        }</style><table id=\"T_0eaa2d28_bc3a_11ea_ab72_0242ac110002\" ><thead>    <tr>        <th class=\"blank level0\" ></th>        <th class=\"col_heading level0 col0\" >CEBPA</th>        <th class=\"col_heading level0 col1\" >EgrNab</th>        <th class=\"col_heading level0 col2\" >GATA1</th>        <th class=\"col_heading level0 col3\" >GATA2</th>        <th class=\"col_heading level0 col4\" >Gfi1</th>        <th class=\"col_heading level0 col5\" >PU1</th>    </tr></thead><tbody>\n",
       "                <tr>\n",
       "                        <th id=\"T_0eaa2d28_bc3a_11ea_ab72_0242ac110002level0_row0\" class=\"row_heading level0 row0\" >0</th>\n",
       "                        <td id=\"T_0eaa2d28_bc3a_11ea_ab72_0242ac110002row0_col0\" class=\"data row0 col0\" >1</td>\n",
       "                        <td id=\"T_0eaa2d28_bc3a_11ea_ab72_0242ac110002row0_col1\" class=\"data row0 col1\" ></td>\n",
       "                        <td id=\"T_0eaa2d28_bc3a_11ea_ab72_0242ac110002row0_col2\" class=\"data row0 col2\" ></td>\n",
       "                        <td id=\"T_0eaa2d28_bc3a_11ea_ab72_0242ac110002row0_col3\" class=\"data row0 col3\" >0</td>\n",
       "                        <td id=\"T_0eaa2d28_bc3a_11ea_ab72_0242ac110002row0_col4\" class=\"data row0 col4\" >0</td>\n",
       "                        <td id=\"T_0eaa2d28_bc3a_11ea_ab72_0242ac110002row0_col5\" class=\"data row0 col5\" >1</td>\n",
       "            </tr>\n",
       "            <tr>\n",
       "                        <th id=\"T_0eaa2d28_bc3a_11ea_ab72_0242ac110002level0_row1\" class=\"row_heading level0 row1\" >1</th>\n",
       "                        <td id=\"T_0eaa2d28_bc3a_11ea_ab72_0242ac110002row1_col0\" class=\"data row1 col0\" >1</td>\n",
       "                        <td id=\"T_0eaa2d28_bc3a_11ea_ab72_0242ac110002row1_col1\" class=\"data row1 col1\" ></td>\n",
       "                        <td id=\"T_0eaa2d28_bc3a_11ea_ab72_0242ac110002row1_col2\" class=\"data row1 col2\" >0</td>\n",
       "                        <td id=\"T_0eaa2d28_bc3a_11ea_ab72_0242ac110002row1_col3\" class=\"data row1 col3\" >0</td>\n",
       "                        <td id=\"T_0eaa2d28_bc3a_11ea_ab72_0242ac110002row1_col4\" class=\"data row1 col4\" >0</td>\n",
       "                        <td id=\"T_0eaa2d28_bc3a_11ea_ab72_0242ac110002row1_col5\" class=\"data row1 col5\" ></td>\n",
       "            </tr>\n",
       "            <tr>\n",
       "                        <th id=\"T_0eaa2d28_bc3a_11ea_ab72_0242ac110002level0_row2\" class=\"row_heading level0 row2\" >2</th>\n",
       "                        <td id=\"T_0eaa2d28_bc3a_11ea_ab72_0242ac110002row2_col0\" class=\"data row2 col0\" >1</td>\n",
       "                        <td id=\"T_0eaa2d28_bc3a_11ea_ab72_0242ac110002row2_col1\" class=\"data row2 col1\" >1</td>\n",
       "                        <td id=\"T_0eaa2d28_bc3a_11ea_ab72_0242ac110002row2_col2\" class=\"data row2 col2\" ></td>\n",
       "                        <td id=\"T_0eaa2d28_bc3a_11ea_ab72_0242ac110002row2_col3\" class=\"data row2 col3\" >0</td>\n",
       "                        <td id=\"T_0eaa2d28_bc3a_11ea_ab72_0242ac110002row2_col4\" class=\"data row2 col4\" ></td>\n",
       "                        <td id=\"T_0eaa2d28_bc3a_11ea_ab72_0242ac110002row2_col5\" class=\"data row2 col5\" >1</td>\n",
       "            </tr>\n",
       "            <tr>\n",
       "                        <th id=\"T_0eaa2d28_bc3a_11ea_ab72_0242ac110002level0_row3\" class=\"row_heading level0 row3\" >3</th>\n",
       "                        <td id=\"T_0eaa2d28_bc3a_11ea_ab72_0242ac110002row3_col0\" class=\"data row3 col0\" >1</td>\n",
       "                        <td id=\"T_0eaa2d28_bc3a_11ea_ab72_0242ac110002row3_col1\" class=\"data row3 col1\" >1</td>\n",
       "                        <td id=\"T_0eaa2d28_bc3a_11ea_ab72_0242ac110002row3_col2\" class=\"data row3 col2\" >0</td>\n",
       "                        <td id=\"T_0eaa2d28_bc3a_11ea_ab72_0242ac110002row3_col3\" class=\"data row3 col3\" >0</td>\n",
       "                        <td id=\"T_0eaa2d28_bc3a_11ea_ab72_0242ac110002row3_col4\" class=\"data row3 col4\" ></td>\n",
       "                        <td id=\"T_0eaa2d28_bc3a_11ea_ab72_0242ac110002row3_col5\" class=\"data row3 col5\" ></td>\n",
       "            </tr>\n",
       "    </tbody></table>"
      ],
      "text/plain": [
       "<pandas.io.formats.style.Styler at 0x7fcb15b9ec50>"
      ]
     },
     "execution_count": 8,
     "metadata": {},
     "output_type": "execute_result"
    }
   ],
   "source": [
    "s.as_table()"
   ]
  },
  {
   "cell_type": "code",
   "execution_count": null,
   "metadata": {},
   "outputs": [],
   "source": []
  }
 ],
 "metadata": {
  "kernelspec": {
   "display_name": "Python 3",
   "language": "python",
   "name": "python3"
  },
  "language_info": {
   "codemirror_mode": {
    "name": "ipython",
    "version": 3
   },
   "file_extension": ".py",
   "mimetype": "text/x-python",
   "name": "python",
   "nbconvert_exporter": "python",
   "pygments_lexer": "ipython3",
   "version": "3.7.6"
  }
 },
 "nbformat": 4,
 "nbformat_minor": 2
}
